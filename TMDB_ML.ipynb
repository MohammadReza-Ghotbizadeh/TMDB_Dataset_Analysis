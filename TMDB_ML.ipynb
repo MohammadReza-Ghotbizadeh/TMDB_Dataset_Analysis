{
 "cells": [
  {
   "cell_type": "markdown",
   "metadata": {},
   "source": [
    "## **TMDB Movie Dataset Modeling**"
   ]
  },
  {
   "cell_type": "code",
   "execution_count": 1,
   "metadata": {},
   "outputs": [
    {
     "data": {
      "text/html": [
       "        <script type=\"text/javascript\">\n",
       "        window.PlotlyConfig = {MathJaxConfig: 'local'};\n",
       "        if (window.MathJax && window.MathJax.Hub && window.MathJax.Hub.Config) {window.MathJax.Hub.Config({SVG: {font: \"STIX-Web\"}});}\n",
       "        if (typeof require !== 'undefined') {\n",
       "        require.undef(\"plotly\");\n",
       "        requirejs.config({\n",
       "            paths: {\n",
       "                'plotly': ['https://cdn.plot.ly/plotly-2.27.0.min']\n",
       "            }\n",
       "        });\n",
       "        require(['plotly'], function(Plotly) {\n",
       "            window._Plotly = Plotly;\n",
       "        });\n",
       "        }\n",
       "        </script>\n",
       "        "
      ]
     },
     "metadata": {},
     "output_type": "display_data"
    }
   ],
   "source": [
    "# Import libraries\n",
    "import pandas as pd\n",
    "import seaborn as sns\n",
    "import matplotlib.pyplot as plt\n",
    "import plotly.graph_objects as go\n",
    "from sklearn.preprocessing import StandardScaler\n",
    "from sklearn.model_selection import train_test_split\n",
    "from xgboost import XGBClassifier\n",
    "from sklearn.tree import DecisionTreeClassifier\n",
    "from sklearn.linear_model import LogisticRegression\n",
    "from sklearn.ensemble import RandomForestClassifier\n",
    "from sklearn.metrics import classification_report, confusion_matrix, accuracy_score,\\\n",
    "precision_score, recall_score, f1_score, roc_curve, roc_auc_score, auc\n",
    "\n",
    "# Initialize Plotly to run in offline mode in Jupyter notebooks\n",
    "from plotly.offline import init_notebook_mode, iplot\n",
    "init_notebook_mode(connected=True)"
   ]
  },
  {
   "cell_type": "markdown",
   "metadata": {},
   "source": [
    "### *Read and prepare data*"
   ]
  },
  {
   "cell_type": "code",
   "execution_count": 2,
   "metadata": {},
   "outputs": [],
   "source": [
    "data = pd.read_csv('clean_data.csv')"
   ]
  },
  {
   "cell_type": "code",
   "execution_count": 3,
   "metadata": {},
   "outputs": [
    {
     "data": {
      "text/html": [
       "<div>\n",
       "<style scoped>\n",
       "    .dataframe tbody tr th:only-of-type {\n",
       "        vertical-align: middle;\n",
       "    }\n",
       "\n",
       "    .dataframe tbody tr th {\n",
       "        vertical-align: top;\n",
       "    }\n",
       "\n",
       "    .dataframe thead th {\n",
       "        text-align: right;\n",
       "    }\n",
       "</style>\n",
       "<table border=\"1\" class=\"dataframe\">\n",
       "  <thead>\n",
       "    <tr style=\"text-align: right;\">\n",
       "      <th></th>\n",
       "      <th>original_language</th>\n",
       "      <th>runtime</th>\n",
       "      <th>popularity</th>\n",
       "      <th>vote_average</th>\n",
       "      <th>Num_genres</th>\n",
       "      <th>Num_keywords</th>\n",
       "      <th>Num_production_companies</th>\n",
       "      <th>Num_production_countries</th>\n",
       "      <th>Num_spoken_languages</th>\n",
       "      <th>Num_overview_words</th>\n",
       "      <th>Num_tagline_words</th>\n",
       "      <th>Num_Departments</th>\n",
       "      <th>Num_Cast</th>\n",
       "      <th>Num_Crew</th>\n",
       "      <th>Year</th>\n",
       "      <th>Month</th>\n",
       "      <th>Day</th>\n",
       "      <th>Is_profitable</th>\n",
       "    </tr>\n",
       "  </thead>\n",
       "  <tbody>\n",
       "    <tr>\n",
       "      <th>0</th>\n",
       "      <td>4</td>\n",
       "      <td>169.0</td>\n",
       "      <td>139.082615</td>\n",
       "      <td>6.9</td>\n",
       "      <td>3</td>\n",
       "      <td>16</td>\n",
       "      <td>3</td>\n",
       "      <td>1</td>\n",
       "      <td>1</td>\n",
       "      <td>34</td>\n",
       "      <td>9</td>\n",
       "      <td>9</td>\n",
       "      <td>34</td>\n",
       "      <td>32</td>\n",
       "      <td>2007</td>\n",
       "      <td>5</td>\n",
       "      <td>19</td>\n",
       "      <td>1</td>\n",
       "    </tr>\n",
       "    <tr>\n",
       "      <th>1</th>\n",
       "      <td>4</td>\n",
       "      <td>148.0</td>\n",
       "      <td>107.376788</td>\n",
       "      <td>6.3</td>\n",
       "      <td>3</td>\n",
       "      <td>7</td>\n",
       "      <td>3</td>\n",
       "      <td>2</td>\n",
       "      <td>5</td>\n",
       "      <td>41</td>\n",
       "      <td>5</td>\n",
       "      <td>11</td>\n",
       "      <td>83</td>\n",
       "      <td>155</td>\n",
       "      <td>2015</td>\n",
       "      <td>10</td>\n",
       "      <td>26</td>\n",
       "      <td>1</td>\n",
       "    </tr>\n",
       "    <tr>\n",
       "      <th>2</th>\n",
       "      <td>4</td>\n",
       "      <td>165.0</td>\n",
       "      <td>112.312950</td>\n",
       "      <td>7.6</td>\n",
       "      <td>4</td>\n",
       "      <td>21</td>\n",
       "      <td>4</td>\n",
       "      <td>1</td>\n",
       "      <td>1</td>\n",
       "      <td>65</td>\n",
       "      <td>3</td>\n",
       "      <td>11</td>\n",
       "      <td>158</td>\n",
       "      <td>217</td>\n",
       "      <td>2012</td>\n",
       "      <td>7</td>\n",
       "      <td>16</td>\n",
       "      <td>1</td>\n",
       "    </tr>\n",
       "    <tr>\n",
       "      <th>3</th>\n",
       "      <td>4</td>\n",
       "      <td>132.0</td>\n",
       "      <td>43.926995</td>\n",
       "      <td>6.1</td>\n",
       "      <td>3</td>\n",
       "      <td>16</td>\n",
       "      <td>1</td>\n",
       "      <td>1</td>\n",
       "      <td>1</td>\n",
       "      <td>55</td>\n",
       "      <td>7</td>\n",
       "      <td>11</td>\n",
       "      <td>27</td>\n",
       "      <td>132</td>\n",
       "      <td>2012</td>\n",
       "      <td>3</td>\n",
       "      <td>7</td>\n",
       "      <td>1</td>\n",
       "    </tr>\n",
       "    <tr>\n",
       "      <th>4</th>\n",
       "      <td>4</td>\n",
       "      <td>139.0</td>\n",
       "      <td>115.699814</td>\n",
       "      <td>5.9</td>\n",
       "      <td>3</td>\n",
       "      <td>16</td>\n",
       "      <td>3</td>\n",
       "      <td>1</td>\n",
       "      <td>2</td>\n",
       "      <td>45</td>\n",
       "      <td>3</td>\n",
       "      <td>9</td>\n",
       "      <td>143</td>\n",
       "      <td>56</td>\n",
       "      <td>2007</td>\n",
       "      <td>5</td>\n",
       "      <td>1</td>\n",
       "      <td>1</td>\n",
       "    </tr>\n",
       "  </tbody>\n",
       "</table>\n",
       "</div>"
      ],
      "text/plain": [
       "   original_language  runtime  popularity  vote_average  Num_genres  \\\n",
       "0                  4    169.0  139.082615           6.9           3   \n",
       "1                  4    148.0  107.376788           6.3           3   \n",
       "2                  4    165.0  112.312950           7.6           4   \n",
       "3                  4    132.0   43.926995           6.1           3   \n",
       "4                  4    139.0  115.699814           5.9           3   \n",
       "\n",
       "   Num_keywords  Num_production_companies  Num_production_countries  \\\n",
       "0            16                         3                         1   \n",
       "1             7                         3                         2   \n",
       "2            21                         4                         1   \n",
       "3            16                         1                         1   \n",
       "4            16                         3                         1   \n",
       "\n",
       "   Num_spoken_languages  Num_overview_words  Num_tagline_words  \\\n",
       "0                     1                  34                  9   \n",
       "1                     5                  41                  5   \n",
       "2                     1                  65                  3   \n",
       "3                     1                  55                  7   \n",
       "4                     2                  45                  3   \n",
       "\n",
       "   Num_Departments  Num_Cast  Num_Crew  Year  Month  Day  Is_profitable  \n",
       "0                9        34        32  2007      5   19              1  \n",
       "1               11        83       155  2015     10   26              1  \n",
       "2               11       158       217  2012      7   16              1  \n",
       "3               11        27       132  2012      3    7              1  \n",
       "4                9       143        56  2007      5    1              1  "
      ]
     },
     "execution_count": 3,
     "metadata": {},
     "output_type": "execute_result"
    }
   ],
   "source": [
    "data.head()"
   ]
  },
  {
   "cell_type": "code",
   "execution_count": 4,
   "metadata": {},
   "outputs": [
    {
     "data": {
      "text/plain": [
       "Is_profitable\n",
       "1    2411\n",
       "0    1270\n",
       "Name: count, dtype: int64"
      ]
     },
     "execution_count": 4,
     "metadata": {},
     "output_type": "execute_result"
    }
   ],
   "source": [
    "data.Is_profitable.value_counts()"
   ]
  },
  {
   "cell_type": "code",
   "execution_count": 5,
   "metadata": {},
   "outputs": [],
   "source": [
    "# Define features and target variable\n",
    "X = data.drop(['Is_profitable'], axis=1)    # Features\n",
    "y = data['Is_profitable']  # Target variable"
   ]
  },
  {
   "cell_type": "code",
   "execution_count": 6,
   "metadata": {},
   "outputs": [],
   "source": [
    "# Split the data into training and testing sets\n",
    "X_train, X_test, y_train, y_test = train_test_split(X, y, test_size=0.2, random_state=42)"
   ]
  },
  {
   "cell_type": "code",
   "execution_count": 7,
   "metadata": {},
   "outputs": [],
   "source": [
    " # Standardize features\n",
    "scaler = StandardScaler()\n",
    "X_train = scaler.fit_transform(X_train)\n",
    "X_test = scaler.transform(X_test)"
   ]
  },
  {
   "cell_type": "markdown",
   "metadata": {},
   "source": [
    "### *Example: Logistic Regression*"
   ]
  },
  {
   "cell_type": "code",
   "execution_count": 8,
   "metadata": {},
   "outputs": [
    {
     "data": {
      "text/html": [
       "<style>#sk-container-id-1 {color: black;}#sk-container-id-1 pre{padding: 0;}#sk-container-id-1 div.sk-toggleable {background-color: white;}#sk-container-id-1 label.sk-toggleable__label {cursor: pointer;display: block;width: 100%;margin-bottom: 0;padding: 0.3em;box-sizing: border-box;text-align: center;}#sk-container-id-1 label.sk-toggleable__label-arrow:before {content: \"▸\";float: left;margin-right: 0.25em;color: #696969;}#sk-container-id-1 label.sk-toggleable__label-arrow:hover:before {color: black;}#sk-container-id-1 div.sk-estimator:hover label.sk-toggleable__label-arrow:before {color: black;}#sk-container-id-1 div.sk-toggleable__content {max-height: 0;max-width: 0;overflow: hidden;text-align: left;background-color: #f0f8ff;}#sk-container-id-1 div.sk-toggleable__content pre {margin: 0.2em;color: black;border-radius: 0.25em;background-color: #f0f8ff;}#sk-container-id-1 input.sk-toggleable__control:checked~div.sk-toggleable__content {max-height: 200px;max-width: 100%;overflow: auto;}#sk-container-id-1 input.sk-toggleable__control:checked~label.sk-toggleable__label-arrow:before {content: \"▾\";}#sk-container-id-1 div.sk-estimator input.sk-toggleable__control:checked~label.sk-toggleable__label {background-color: #d4ebff;}#sk-container-id-1 div.sk-label input.sk-toggleable__control:checked~label.sk-toggleable__label {background-color: #d4ebff;}#sk-container-id-1 input.sk-hidden--visually {border: 0;clip: rect(1px 1px 1px 1px);clip: rect(1px, 1px, 1px, 1px);height: 1px;margin: -1px;overflow: hidden;padding: 0;position: absolute;width: 1px;}#sk-container-id-1 div.sk-estimator {font-family: monospace;background-color: #f0f8ff;border: 1px dotted black;border-radius: 0.25em;box-sizing: border-box;margin-bottom: 0.5em;}#sk-container-id-1 div.sk-estimator:hover {background-color: #d4ebff;}#sk-container-id-1 div.sk-parallel-item::after {content: \"\";width: 100%;border-bottom: 1px solid gray;flex-grow: 1;}#sk-container-id-1 div.sk-label:hover label.sk-toggleable__label {background-color: #d4ebff;}#sk-container-id-1 div.sk-serial::before {content: \"\";position: absolute;border-left: 1px solid gray;box-sizing: border-box;top: 0;bottom: 0;left: 50%;z-index: 0;}#sk-container-id-1 div.sk-serial {display: flex;flex-direction: column;align-items: center;background-color: white;padding-right: 0.2em;padding-left: 0.2em;position: relative;}#sk-container-id-1 div.sk-item {position: relative;z-index: 1;}#sk-container-id-1 div.sk-parallel {display: flex;align-items: stretch;justify-content: center;background-color: white;position: relative;}#sk-container-id-1 div.sk-item::before, #sk-container-id-1 div.sk-parallel-item::before {content: \"\";position: absolute;border-left: 1px solid gray;box-sizing: border-box;top: 0;bottom: 0;left: 50%;z-index: -1;}#sk-container-id-1 div.sk-parallel-item {display: flex;flex-direction: column;z-index: 1;position: relative;background-color: white;}#sk-container-id-1 div.sk-parallel-item:first-child::after {align-self: flex-end;width: 50%;}#sk-container-id-1 div.sk-parallel-item:last-child::after {align-self: flex-start;width: 50%;}#sk-container-id-1 div.sk-parallel-item:only-child::after {width: 0;}#sk-container-id-1 div.sk-dashed-wrapped {border: 1px dashed gray;margin: 0 0.4em 0.5em 0.4em;box-sizing: border-box;padding-bottom: 0.4em;background-color: white;}#sk-container-id-1 div.sk-label label {font-family: monospace;font-weight: bold;display: inline-block;line-height: 1.2em;}#sk-container-id-1 div.sk-label-container {text-align: center;}#sk-container-id-1 div.sk-container {/* jupyter's `normalize.less` sets `[hidden] { display: none; }` but bootstrap.min.css set `[hidden] { display: none !important; }` so we also need the `!important` here to be able to override the default hidden behavior on the sphinx rendered scikit-learn.org. See: https://github.com/scikit-learn/scikit-learn/issues/21755 */display: inline-block !important;position: relative;}#sk-container-id-1 div.sk-text-repr-fallback {display: none;}</style><div id=\"sk-container-id-1\" class=\"sk-top-container\"><div class=\"sk-text-repr-fallback\"><pre>LogisticRegression(max_iter=1000)</pre><b>In a Jupyter environment, please rerun this cell to show the HTML representation or trust the notebook. <br />On GitHub, the HTML representation is unable to render, please try loading this page with nbviewer.org.</b></div><div class=\"sk-container\" hidden><div class=\"sk-item\"><div class=\"sk-estimator sk-toggleable\"><input class=\"sk-toggleable__control sk-hidden--visually\" id=\"sk-estimator-id-1\" type=\"checkbox\" checked><label for=\"sk-estimator-id-1\" class=\"sk-toggleable__label sk-toggleable__label-arrow\">LogisticRegression</label><div class=\"sk-toggleable__content\"><pre>LogisticRegression(max_iter=1000)</pre></div></div></div></div></div>"
      ],
      "text/plain": [
       "LogisticRegression(max_iter=1000)"
      ]
     },
     "execution_count": 8,
     "metadata": {},
     "output_type": "execute_result"
    }
   ],
   "source": [
    " # Train the Logistic Regression model\n",
    "model = LogisticRegression(max_iter=1000)\n",
    "model.fit(X_train, y_train)"
   ]
  },
  {
   "cell_type": "code",
   "execution_count": 9,
   "metadata": {},
   "outputs": [
    {
     "name": "stdout",
     "output_type": "stream",
     "text": [
      "Accuracy: 80.05%\n"
     ]
    }
   ],
   "source": [
    " # Evaluate the model\n",
    "y_pred = model.predict(X_test)      # Make predictions\n",
    "accuracy = accuracy_score(y_test, y_pred)\n",
    "print(\"Accuracy: {:.2f}%\".format(accuracy * 100))"
   ]
  },
  {
   "cell_type": "code",
   "execution_count": 10,
   "metadata": {},
   "outputs": [
    {
     "name": "stdout",
     "output_type": "stream",
     "text": [
      "Classification Report:\n",
      "              precision    recall  f1-score   support\n",
      "\n",
      "Unprofitable       0.69      0.66      0.67       229\n",
      "  Profitable       0.85      0.87      0.86       508\n",
      "\n",
      "    accuracy                           0.80       737\n",
      "   macro avg       0.77      0.76      0.76       737\n",
      "weighted avg       0.80      0.80      0.80       737\n",
      "\n"
     ]
    },
    {
     "data": {
      "image/png": "[encoded data removed]",
      "text/plain": [
       "<Figure size 700x500 with 2 Axes>"
      ]
     },
     "metadata": {},
     "output_type": "display_data"
    }
   ],
   "source": [
    "# Get classification report\n",
    "report = classification_report(y_test, y_pred, target_names=['Unprofitable', 'Profitable'])\n",
    "\n",
    "# Plot classification report\n",
    "print(\"Classification Report:\")\n",
    "print(report)\n",
    "\n",
    "# Get confusion matrix\n",
    "conf_matrix = confusion_matrix(y_test, y_pred)\n",
    "\n",
    "# Plot confusion matrix as heatmap\n",
    "plt.figure(figsize=(7,5))\n",
    "sns.heatmap(conf_matrix, annot=True, fmt='d', cmap='Blues', xticklabels=['Unprofitable', 'Profitable'], yticklabels=['Unprofitable', 'Profitable'])\n",
    "plt.xlabel('Predicted Label')\n",
    "plt.ylabel('True Label')\n",
    "plt.title('Confusion Matrix')\n",
    "plt.show()"
   ]
  },
  {
   "cell_type": "code",
   "execution_count": 11,
   "metadata": {},
   "outputs": [
    {
     "data": {
      "image/png": "[encoded data removed]",
      "text/plain": [
       "<Figure size 800x600 with 1 Axes>"
      ]
     },
     "metadata": {},
     "output_type": "display_data"
    }
   ],
   "source": [
    "# Plot ROC Curve\n",
    "y_prob = model.predict_proba(X_test)[:, 1]\n",
    "fpr, tpr, thresholds = roc_curve(y_test, y_prob)\n",
    "roc_auc = auc(fpr, tpr)\n",
    "\n",
    "plt.figure(figsize=(8, 6))\n",
    "plt.plot(fpr, tpr, color='darkorange', lw=2,\n",
    "\t\tlabel=f'ROC Curve (AUC = {roc_auc:.2f})')\n",
    "plt.plot([0, 1], [0, 1], color='navy', lw=2, linestyle='--', label='Random')\n",
    "plt.xlabel('False Positive Rate')\n",
    "plt.ylabel('True Positive Rate')\n",
    "plt.title('ROC Curve\\nAccuracy: {:.2f}%'.format(accuracy * 100))\n",
    "plt.legend(loc=\"lower right\")\n",
    "plt.show()"
   ]
  },
  {
   "cell_type": "markdown",
   "metadata": {},
   "source": [
    "### *Compare desired ML models*"
   ]
  },
  {
   "cell_type": "code",
   "execution_count": 12,
   "metadata": {},
   "outputs": [
    {
     "data": {
      "image/png": "[encoded data removed]",
      "text/plain": [
       "<Figure size 2000x400 with 8 Axes>"
      ]
     },
     "metadata": {},
     "output_type": "display_data"
    },
    {
     "data": {
      "application/vnd.plotly.v1+json": {
       "config": {
        "linkText": "Export to plot.ly",
        "plotlyServerURL": "https://plot.ly",
        "showLink": false
       },
       "data": [
        {
         "mode": "lines",
         "name": "Logistic Regression (AUC = 0.86)",
         "type": "scatter",
         "x": [
          0,
          0,
          0,
          0.004366812227074236,
          0.004366812227074236,
          0.008733624454148471,
          0.008733624454148471,
          0.013100436681222707,
          0.013100436681222707,
          0.017467248908296942,
          0.017467248908296942,
          0.021834061135371178,
          0.021834061135371178,
          0.026200873362445413,
          0.026200873362445413,
          0.03056768558951965,
          0.03056768558951965,
          0.039301310043668124,
          0.039301310043668124,
          0.043668122270742356,
          0.043668122270742356,
          0.048034934497816595,
          0.048034934497816595,
          0.05240174672489083,
          0.05240174672489083,
          0.056768558951965066,
          0.056768558951965066,
          0.0611353711790393,
          0.0611353711790393,
          0.06986899563318777,
          0.06986899563318777,
          0.07423580786026202,
          0.07423580786026202,
          0.07860262008733625,
          0.07860262008733625,
          0.08296943231441048,
          0.08296943231441048,
          0.09170305676855896,
          0.09170305676855896,
          0.09606986899563319,
          0.09606986899563319,
          0.10043668122270742,
          0.10043668122270742,
          0.10480349344978165,
          0.10480349344978165,
          0.1091703056768559,
          0.1091703056768559,
          0.11790393013100436,
          0.11790393013100436,
          0.1222707423580786,
          0.1222707423580786,
          0.13100436681222707,
          0.13100436681222707,
          0.13537117903930132,
          0.13537117903930132,
          0.13973799126637554,
          0.13973799126637554,
          0.1572052401746725,
          0.1572052401746725,
          0.1615720524017467,
          0.1615720524017467,
          0.16593886462882096,
          0.16593886462882096,
          0.1703056768558952,
          0.1703056768558952,
          0.17467248908296942,
          0.17467248908296942,
          0.17903930131004367,
          0.17903930131004367,
          0.19213973799126638,
          0.19213973799126638,
          0.1965065502183406,
          0.1965065502183406,
          0.2052401746724891,
          0.2052401746724891,
          0.2096069868995633,
          0.2096069868995633,
          0.21397379912663755,
          0.21397379912663755,
          0.2183406113537118,
          0.2183406113537118,
          0.22270742358078602,
          0.22270742358078602,
          0.22707423580786026,
          0.22707423580786026,
          0.23580786026200873,
          0.23580786026200873,
          0.2445414847161572,
          0.2445414847161572,
          0.25327510917030566,
          0.25327510917030566,
          0.2576419213973799,
          0.2576419213973799,
          0.27074235807860264,
          0.27074235807860264,
          0.27510917030567683,
          0.27510917030567683,
          0.2838427947598253,
          0.2838427947598253,
          0.2925764192139738,
          0.2925764192139738,
          0.29694323144104806,
          0.29694323144104806,
          0.314410480349345,
          0.314410480349345,
          0.3231441048034934,
          0.3231441048034934,
          0.32751091703056767,
          0.32751091703056767,
          0.3318777292576419,
          0.3318777292576419,
          0.34497816593886466,
          0.34497816593886466,
          0.34934497816593885,
          0.34934497816593885,
          0.3537117903930131,
          0.3537117903930131,
          0.35807860262008734,
          0.35807860262008734,
          0.3624454148471616,
          0.3624454148471616,
          0.36681222707423583,
          0.36681222707423583,
          0.3799126637554585,
          0.3799126637554585,
          0.38427947598253276,
          0.38427947598253276,
          0.388646288209607,
          0.388646288209607,
          0.3930131004366812,
          0.3930131004366812,
          0.40611353711790393,
          0.40611353711790393,
          0.4279475982532751,
          0.4279475982532751,
          0.4410480349344978,
          0.4410480349344978,
          0.45414847161572053,
          0.45414847161572053,
          0.47161572052401746,
          0.47161572052401746,
          0.4759825327510917,
          0.4759825327510917,
          0.4890829694323144,
          0.4890829694323144,
          0.49344978165938863,
          0.49344978165938863,
          0.5065502183406113,
          0.5065502183406113,
          0.5152838427947598,
          0.5152838427947598,
          0.519650655021834,
          0.519650655021834,
          0.5327510917030568,
          0.5327510917030568,
          0.5414847161572053,
          0.5414847161572053,
          0.5458515283842795,
          0.5458515283842795,
          0.5633187772925764,
          0.5633187772925764,
          0.5676855895196506,
          0.5676855895196506,
          0.5764192139737991,
          0.5764192139737991,
          0.5851528384279476,
          0.5851528384279476,
          0.5895196506550219,
          0.5895196506550219,
          0.611353711790393,
          0.611353711790393,
          0.6157205240174672,
          0.6157205240174672,
          0.6331877729257642,
          0.6331877729257642,
          0.6637554585152838,
          0.6637554585152838,
          0.6724890829694323,
          0.6724890829694323,
          0.6812227074235808,
          0.6812227074235808,
          0.6943231441048034,
          0.6943231441048034,
          0.6986899563318777,
          0.6986899563318777,
          0.7074235807860262,
          0.7074235807860262,
          0.7205240174672489,
          0.7205240174672489,
          0.7379912663755459,
          0.7379912663755459,
          0.7903930131004366,
          0.7903930131004366,
          0.7947598253275109,
          0.7947598253275109,
          0.8078602620087336,
          0.8078602620087336,
          0.851528384279476,
          0.851528384279476,
          0.8777292576419214,
          0.8777292576419214,
          0.8995633187772926,
          0.8995633187772926,
          0.9039301310043668,
          0.9039301310043668,
          0.9650655021834061,
          0.9650655021834061,
          0.9868995633187773,
          0.9868995633187773,
          1
         ],
         "y": [
          0,
          0.001968503937007874,
          0.0984251968503937,
          0.0984251968503937,
          0.11811023622047244,
          0.11811023622047244,
          0.12401574803149606,
          0.12401574803149606,
          0.2755905511811024,
          0.2755905511811024,
          0.2854330708661417,
          0.2854330708661417,
          0.36811023622047245,
          0.36811023622047245,
          0.4094488188976378,
          0.4094488188976378,
          0.4468503937007874,
          0.4468503937007874,
          0.452755905511811,
          0.452755905511811,
          0.4704724409448819,
          0.4704724409448819,
          0.4744094488188976,
          0.4744094488188976,
          0.4862204724409449,
          0.4862204724409449,
          0.5019685039370079,
          0.5019685039370079,
          0.5216535433070866,
          0.5216535433070866,
          0.547244094488189,
          0.547244094488189,
          0.5531496062992126,
          0.5531496062992126,
          0.5570866141732284,
          0.5570866141732284,
          0.5708661417322834,
          0.5708661417322834,
          0.5905511811023622,
          0.5905511811023622,
          0.6043307086614174,
          0.6043307086614174,
          0.6240157480314961,
          0.6240157480314961,
          0.6279527559055118,
          0.6279527559055118,
          0.6377952755905512,
          0.6377952755905512,
          0.655511811023622,
          0.655511811023622,
          0.6594488188976378,
          0.6594488188976378,
          0.6614173228346457,
          0.6614173228346457,
          0.6653543307086615,
          0.6653543307086615,
          0.6673228346456693,
          0.6673228346456693,
          0.6988188976377953,
          0.6988188976377953,
          0.7007874015748031,
          0.7007874015748031,
          0.7066929133858267,
          0.7066929133858267,
          0.7106299212598425,
          0.7106299212598425,
          0.7165354330708661,
          0.7165354330708661,
          0.7244094488188977,
          0.7244094488188977,
          0.7795275590551181,
          0.7795275590551181,
          0.781496062992126,
          0.781496062992126,
          0.7854330708661418,
          0.7854330708661418,
          0.7913385826771654,
          0.7913385826771654,
          0.7933070866141733,
          0.7933070866141733,
          0.797244094488189,
          0.797244094488189,
          0.7992125984251969,
          0.7992125984251969,
          0.8011811023622047,
          0.8011811023622047,
          0.8031496062992126,
          0.8031496062992126,
          0.8051181102362205,
          0.8051181102362205,
          0.8090551181102362,
          0.8090551181102362,
          0.8149606299212598,
          0.8149606299212598,
          0.8169291338582677,
          0.8169291338582677,
          0.8188976377952756,
          0.8188976377952756,
          0.8248031496062992,
          0.8248031496062992,
          0.8267716535433071,
          0.8267716535433071,
          0.8307086614173228,
          0.8307086614173228,
          0.8346456692913385,
          0.8346456692913385,
          0.8405511811023622,
          0.8405511811023622,
          0.8484251968503937,
          0.8484251968503937,
          0.8543307086614174,
          0.8543307086614174,
          0.8681102362204725,
          0.8681102362204725,
          0.8720472440944882,
          0.8720472440944882,
          0.8759842519685039,
          0.8759842519685039,
          0.8779527559055118,
          0.8779527559055118,
          0.8799212598425197,
          0.8799212598425197,
          0.8818897637795275,
          0.8818897637795275,
          0.8838582677165354,
          0.8838582677165354,
          0.8858267716535433,
          0.8858267716535433,
          0.889763779527559,
          0.889763779527559,
          0.8917322834645669,
          0.8917322834645669,
          0.8996062992125984,
          0.8996062992125984,
          0.9035433070866141,
          0.9035433070866141,
          0.90748031496063,
          0.90748031496063,
          0.9094488188976378,
          0.9094488188976378,
          0.9114173228346457,
          0.9114173228346457,
          0.9133858267716536,
          0.9133858267716536,
          0.9192913385826772,
          0.9192913385826772,
          0.9212598425196851,
          0.9212598425196851,
          0.9232283464566929,
          0.9232283464566929,
          0.9311023622047244,
          0.9311023622047244,
          0.9330708661417323,
          0.9330708661417323,
          0.9350393700787402,
          0.9350393700787402,
          0.937007874015748,
          0.937007874015748,
          0.9389763779527559,
          0.9389763779527559,
          0.9409448818897638,
          0.9409448818897638,
          0.9429133858267716,
          0.9429133858267716,
          0.9448818897637795,
          0.9448818897637795,
          0.9468503937007874,
          0.9468503937007874,
          0.9488188976377953,
          0.9488188976377953,
          0.9507874015748031,
          0.9507874015748031,
          0.952755905511811,
          0.952755905511811,
          0.9547244094488189,
          0.9547244094488189,
          0.9566929133858267,
          0.9566929133858267,
          0.9625984251968503,
          0.9625984251968503,
          0.9665354330708661,
          0.9665354330708661,
          0.9744094488188977,
          0.9744094488188977,
          0.9763779527559056,
          0.9763779527559056,
          0.9783464566929134,
          0.9783464566929134,
          0.9803149606299213,
          0.9803149606299213,
          0.9822834645669292,
          0.9822834645669292,
          0.984251968503937,
          0.984251968503937,
          0.9862204724409449,
          0.9862204724409449,
          0.9881889763779528,
          0.9881889763779528,
          0.9901574803149606,
          0.9901574803149606,
          0.9921259842519685,
          0.9921259842519685,
          0.9940944881889764,
          0.9940944881889764,
          0.9960629921259843,
          0.9960629921259843,
          0.9980314960629921,
          0.9980314960629921,
          1,
          1
         ]
        },
        {
         "mode": "lines",
         "name": "Decision Tree (AUC = 0.82)",
         "type": "scatter",
         "x": [
          0,
          0.004366812227074236,
          0.017467248908296942,
          0.048034934497816595,
          0.048034934497816595,
          0.07860262008733625,
          0.08296943231441048,
          0.08733624454148471,
          0.08733624454148471,
          0.22270742358078602,
          0.2445414847161572,
          0.2445414847161572,
          0.2663755458515284,
          0.27074235807860264,
          0.27510917030567683,
          0.27510917030567683,
          0.29694323144104806,
          0.30131004366812225,
          0.388646288209607,
          0.40611353711790393,
          0.43231441048034935,
          0.45414847161572053,
          0.5283842794759825,
          0.7991266375545851,
          0.8122270742358079,
          0.9868995633187773,
          1
         ],
         "y": [
          0,
          0,
          0.19094488188976377,
          0.33661417322834647,
          0.3838582677165354,
          0.40551181102362205,
          0.4862204724409449,
          0.515748031496063,
          0.5196850393700787,
          0.718503937007874,
          0.7401574803149606,
          0.7440944881889764,
          0.7736220472440944,
          0.781496062992126,
          0.7874015748031497,
          0.7893700787401575,
          0.8090551181102362,
          0.8169291338582677,
          0.8543307086614174,
          0.8543307086614174,
          0.8700787401574803,
          0.889763779527559,
          0.9212598425196851,
          0.9645669291338582,
          0.9665354330708661,
          0.9960629921259843,
          1
         ]
        },
        {
         "mode": "lines",
         "name": "Random Forest (AUC = 0.84)",
         "type": "scatter",
         "x": [
          0,
          0,
          0,
          0.004366812227074236,
          0.004366812227074236,
          0.008733624454148471,
          0.008733624454148471,
          0.013100436681222707,
          0.013100436681222707,
          0.017467248908296942,
          0.017467248908296942,
          0.021834061135371178,
          0.021834061135371178,
          0.026200873362445413,
          0.026200873362445413,
          0.03056768558951965,
          0.03056768558951965,
          0.034934497816593885,
          0.034934497816593885,
          0.039301310043668124,
          0.039301310043668124,
          0.048034934497816595,
          0.048034934497816595,
          0.05240174672489083,
          0.05240174672489083,
          0.056768558951965066,
          0.056768558951965066,
          0.0611353711790393,
          0.0611353711790393,
          0.06550218340611354,
          0.06550218340611354,
          0.06986899563318777,
          0.06986899563318777,
          0.07423580786026202,
          0.07423580786026202,
          0.07860262008733625,
          0.07860262008733625,
          0.08296943231441048,
          0.08296943231441048,
          0.08733624454148471,
          0.08733624454148471,
          0.09170305676855896,
          0.09170305676855896,
          0.09606986899563319,
          0.09606986899563319,
          0.10043668122270742,
          0.10043668122270742,
          0.10480349344978165,
          0.10480349344978165,
          0.11353711790393013,
          0.11353711790393013,
          0.11790393013100436,
          0.11790393013100436,
          0.1222707423580786,
          0.1222707423580786,
          0.13100436681222707,
          0.13100436681222707,
          0.13537117903930132,
          0.13537117903930132,
          0.13973799126637554,
          0.13973799126637554,
          0.14847161572052403,
          0.14847161572052403,
          0.15283842794759825,
          0.15283842794759825,
          0.1615720524017467,
          0.1615720524017467,
          0.1703056768558952,
          0.1703056768558952,
          0.17903930131004367,
          0.17903930131004367,
          0.18777292576419213,
          0.18777292576419213,
          0.2096069868995633,
          0.2096069868995633,
          0.21397379912663755,
          0.21397379912663755,
          0.22707423580786026,
          0.22707423580786026,
          0.23580786026200873,
          0.23580786026200873,
          0.24017467248908297,
          0.24017467248908297,
          0.2445414847161572,
          0.2445414847161572,
          0.24890829694323144,
          0.24890829694323144,
          0.2576419213973799,
          0.2576419213973799,
          0.26200873362445415,
          0.26200873362445415,
          0.2663755458515284,
          0.2663755458515284,
          0.27074235807860264,
          0.27074235807860264,
          0.27510917030567683,
          0.27510917030567683,
          0.28820960698689957,
          0.28820960698689957,
          0.30131004366812225,
          0.30131004366812225,
          0.3056768558951965,
          0.3056768558951965,
          0.31004366812227074,
          0.31004366812227074,
          0.314410480349345,
          0.314410480349345,
          0.31877729257641924,
          0.31877729257641924,
          0.32751091703056767,
          0.32751091703056767,
          0.3318777292576419,
          0.3318777292576419,
          0.33624454148471616,
          0.33624454148471616,
          0.3406113537117904,
          0.3406113537117904,
          0.34497816593886466,
          0.34497816593886466,
          0.35807860262008734,
          0.35807860262008734,
          0.3624454148471616,
          0.3624454148471616,
          0.37117903930131,
          0.37117903930131,
          0.37554585152838427,
          0.37554585152838427,
          0.3799126637554585,
          0.3799126637554585,
          0.38427947598253276,
          0.38427947598253276,
          0.3930131004366812,
          0.3930131004366812,
          0.39737991266375544,
          0.39737991266375544,
          0.4017467248908297,
          0.4017467248908297,
          0.40611353711790393,
          0.40611353711790393,
          0.4148471615720524,
          0.4148471615720524,
          0.4192139737991266,
          0.4192139737991266,
          0.42358078602620086,
          0.42358078602620086,
          0.4279475982532751,
          0.4279475982532751,
          0.4410480349344978,
          0.4410480349344978,
          0.4585152838427948,
          0.4585152838427948,
          0.47161572052401746,
          0.47161572052401746,
          0.4759825327510917,
          0.4759825327510917,
          0.49344978165938863,
          0.49344978165938863,
          0.4978165938864629,
          0.4978165938864629,
          0.5065502183406113,
          0.5065502183406113,
          0.519650655021834,
          0.519650655021834,
          0.5240174672489083,
          0.5240174672489083,
          0.537117903930131,
          0.537117903930131,
          0.5502183406113537,
          0.5502183406113537,
          0.5545851528384279,
          0.5545851528384279,
          0.5720524017467249,
          0.5720524017467249,
          0.5807860262008734,
          0.5807860262008734,
          0.5851528384279476,
          0.5851528384279476,
          0.5895196506550219,
          0.5895196506550219,
          0.5938864628820961,
          0.5938864628820961,
          0.6026200873362445,
          0.6026200873362445,
          0.611353711790393,
          0.611353711790393,
          0.62882096069869,
          0.62882096069869,
          0.6331877729257642,
          0.6331877729257642,
          0.6375545851528385,
          0.6375545851528385,
          0.6593886462882096,
          0.6593886462882096,
          0.6899563318777293,
          0.6899563318777293,
          0.7292576419213974,
          0.7292576419213974,
          0.7510917030567685,
          0.7510917030567685,
          0.7554585152838428,
          0.7554585152838428,
          0.7685589519650655,
          0.7685589519650655,
          0.7729257641921398,
          0.7729257641921398,
          0.7947598253275109,
          0.7947598253275109,
          0.8384279475982532,
          0.8384279475982532,
          0.8602620087336245,
          0.8602620087336245,
          0.868995633187773,
          0.868995633187773,
          0.8733624454148472,
          0.8733624454148472,
          0.8820960698689956,
          0.8820960698689956,
          0.8864628820960698,
          0.8864628820960698,
          0.9213973799126638,
          0.9213973799126638,
          0.9475982532751092,
          0.9475982532751092,
          1
         ],
         "y": [
          0,
          0.001968503937007874,
          0.02952755905511811,
          0.02952755905511811,
          0.13188976377952755,
          0.13188976377952755,
          0.15748031496062992,
          0.15748031496062992,
          0.16338582677165353,
          0.16338582677165353,
          0.17519685039370078,
          0.17519685039370078,
          0.20866141732283464,
          0.20866141732283464,
          0.2263779527559055,
          0.2263779527559055,
          0.25196850393700787,
          0.25196850393700787,
          0.281496062992126,
          0.281496062992126,
          0.3464566929133858,
          0.3464566929133858,
          0.35826771653543305,
          0.35826771653543305,
          0.4035433070866142,
          0.4035433070866142,
          0.4074803149606299,
          0.4074803149606299,
          0.452755905511811,
          0.452755905511811,
          0.4625984251968504,
          0.4625984251968504,
          0.4704724409448819,
          0.4704724409448819,
          0.4744094488188976,
          0.4744094488188976,
          0.4763779527559055,
          0.4763779527559055,
          0.5433070866141733,
          0.5433070866141733,
          0.5807086614173228,
          0.5807086614173228,
          0.6122047244094488,
          0.6122047244094488,
          0.6181102362204725,
          0.6181102362204725,
          0.639763779527559,
          0.639763779527559,
          0.655511811023622,
          0.655511811023622,
          0.65748031496063,
          0.65748031496063,
          0.6673228346456693,
          0.6673228346456693,
          0.6712598425196851,
          0.6712598425196851,
          0.6909448818897638,
          0.6909448818897638,
          0.6988188976377953,
          0.6988188976377953,
          0.7007874015748031,
          0.7007874015748031,
          0.718503937007874,
          0.718503937007874,
          0.7204724409448819,
          0.7204724409448819,
          0.7322834645669292,
          0.7322834645669292,
          0.7440944881889764,
          0.7440944881889764,
          0.7460629921259843,
          0.7460629921259843,
          0.7519685039370079,
          0.7519685039370079,
          0.7598425196850394,
          0.7598425196850394,
          0.765748031496063,
          0.765748031496063,
          0.7677165354330708,
          0.7677165354330708,
          0.7716535433070866,
          0.7716535433070866,
          0.7775590551181102,
          0.7775590551181102,
          0.7834645669291339,
          0.7834645669291339,
          0.7854330708661418,
          0.7854330708661418,
          0.7893700787401575,
          0.7893700787401575,
          0.7933070866141733,
          0.7933070866141733,
          0.7952755905511811,
          0.7952755905511811,
          0.8051181102362205,
          0.8051181102362205,
          0.812992125984252,
          0.812992125984252,
          0.8149606299212598,
          0.8149606299212598,
          0.8188976377952756,
          0.8188976377952756,
          0.8228346456692913,
          0.8228346456692913,
          0.8248031496062992,
          0.8248031496062992,
          0.8267716535433071,
          0.8267716535433071,
          0.8287401574803149,
          0.8287401574803149,
          0.8346456692913385,
          0.8346456692913385,
          0.8366141732283464,
          0.8366141732283464,
          0.8385826771653543,
          0.8385826771653543,
          0.844488188976378,
          0.844488188976378,
          0.8484251968503937,
          0.8484251968503937,
          0.8503937007874016,
          0.8503937007874016,
          0.8582677165354331,
          0.8582677165354331,
          0.860236220472441,
          0.860236220472441,
          0.8661417322834646,
          0.8661417322834646,
          0.8681102362204725,
          0.8681102362204725,
          0.8700787401574803,
          0.8700787401574803,
          0.8720472440944882,
          0.8720472440944882,
          0.8759842519685039,
          0.8759842519685039,
          0.8779527559055118,
          0.8779527559055118,
          0.8818897637795275,
          0.8818897637795275,
          0.8838582677165354,
          0.8838582677165354,
          0.8858267716535433,
          0.8858267716535433,
          0.8877952755905512,
          0.8877952755905512,
          0.9015748031496063,
          0.9015748031496063,
          0.9035433070866141,
          0.9035433070866141,
          0.905511811023622,
          0.905511811023622,
          0.90748031496063,
          0.90748031496063,
          0.9094488188976378,
          0.9094488188976378,
          0.9114173228346457,
          0.9114173228346457,
          0.9133858267716536,
          0.9133858267716536,
          0.9173228346456693,
          0.9173228346456693,
          0.9192913385826772,
          0.9192913385826772,
          0.9232283464566929,
          0.9232283464566929,
          0.9251968503937008,
          0.9251968503937008,
          0.9311023622047244,
          0.9311023622047244,
          0.9330708661417323,
          0.9330708661417323,
          0.9389763779527559,
          0.9389763779527559,
          0.9409448818897638,
          0.9409448818897638,
          0.9429133858267716,
          0.9429133858267716,
          0.9448818897637795,
          0.9448818897637795,
          0.9468503937007874,
          0.9468503937007874,
          0.952755905511811,
          0.952755905511811,
          0.9547244094488189,
          0.9547244094488189,
          0.9586614173228346,
          0.9586614173228346,
          0.9606299212598425,
          0.9606299212598425,
          0.9625984251968503,
          0.9625984251968503,
          0.9645669291338582,
          0.9645669291338582,
          0.968503937007874,
          0.968503937007874,
          0.9704724409448819,
          0.9704724409448819,
          0.9724409448818898,
          0.9724409448818898,
          0.9744094488188977,
          0.9744094488188977,
          0.9763779527559056,
          0.9763779527559056,
          0.9803149606299213,
          0.9803149606299213,
          0.984251968503937,
          0.984251968503937,
          0.9862204724409449,
          0.9862204724409449,
          0.9881889763779528,
          0.9881889763779528,
          0.9901574803149606,
          0.9901574803149606,
          0.9921259842519685,
          0.9921259842519685,
          0.9940944881889764,
          0.9940944881889764,
          0.9960629921259843,
          0.9960629921259843,
          0.9980314960629921,
          0.9980314960629921,
          1,
          1
         ]
        },
        {
         "mode": "lines",
         "name": "XGBoost (AUC = 0.85)",
         "type": "scatter",
         "x": [
          0,
          0,
          0,
          0.004366812227074236,
          0.004366812227074236,
          0.008733624454148471,
          0.008733624454148471,
          0.013100436681222707,
          0.013100436681222707,
          0.017467248908296942,
          0.017467248908296942,
          0.021834061135371178,
          0.021834061135371178,
          0.026200873362445413,
          0.026200873362445413,
          0.034934497816593885,
          0.034934497816593885,
          0.043668122270742356,
          0.043668122270742356,
          0.048034934497816595,
          0.048034934497816595,
          0.05240174672489083,
          0.05240174672489083,
          0.056768558951965066,
          0.056768558951965066,
          0.0611353711790393,
          0.0611353711790393,
          0.06550218340611354,
          0.06550218340611354,
          0.06986899563318777,
          0.06986899563318777,
          0.07423580786026202,
          0.07423580786026202,
          0.08733624454148471,
          0.08733624454148471,
          0.09170305676855896,
          0.09170305676855896,
          0.09606986899563319,
          0.09606986899563319,
          0.10043668122270742,
          0.10043668122270742,
          0.10480349344978165,
          0.10480349344978165,
          0.1091703056768559,
          0.1091703056768559,
          0.11353711790393013,
          0.11353711790393013,
          0.11790393013100436,
          0.11790393013100436,
          0.1222707423580786,
          0.1222707423580786,
          0.12663755458515283,
          0.12663755458515283,
          0.13100436681222707,
          0.13100436681222707,
          0.13537117903930132,
          0.13537117903930132,
          0.13973799126637554,
          0.13973799126637554,
          0.14410480349344978,
          0.14410480349344978,
          0.14847161572052403,
          0.14847161572052403,
          0.15283842794759825,
          0.15283842794759825,
          0.16593886462882096,
          0.16593886462882096,
          0.17467248908296942,
          0.17467248908296942,
          0.17903930131004367,
          0.17903930131004367,
          0.18777292576419213,
          0.18777292576419213,
          0.20087336244541484,
          0.20087336244541484,
          0.2052401746724891,
          0.2052401746724891,
          0.2096069868995633,
          0.2096069868995633,
          0.21397379912663755,
          0.21397379912663755,
          0.2314410480349345,
          0.2314410480349345,
          0.24017467248908297,
          0.24017467248908297,
          0.2445414847161572,
          0.2445414847161572,
          0.25327510917030566,
          0.25327510917030566,
          0.2576419213973799,
          0.2576419213973799,
          0.26200873362445415,
          0.26200873362445415,
          0.27074235807860264,
          0.27074235807860264,
          0.2794759825327511,
          0.2794759825327511,
          0.2838427947598253,
          0.2838427947598253,
          0.29694323144104806,
          0.29694323144104806,
          0.30131004366812225,
          0.30131004366812225,
          0.31004366812227074,
          0.31004366812227074,
          0.31877729257641924,
          0.31877729257641924,
          0.32751091703056767,
          0.32751091703056767,
          0.3318777292576419,
          0.3318777292576419,
          0.33624454148471616,
          0.33624454148471616,
          0.34934497816593885,
          0.34934497816593885,
          0.3537117903930131,
          0.3537117903930131,
          0.35807860262008734,
          0.35807860262008734,
          0.3624454148471616,
          0.3624454148471616,
          0.36681222707423583,
          0.36681222707423583,
          0.3799126637554585,
          0.3799126637554585,
          0.38427947598253276,
          0.38427947598253276,
          0.388646288209607,
          0.388646288209607,
          0.3930131004366812,
          0.3930131004366812,
          0.4017467248908297,
          0.4017467248908297,
          0.40611353711790393,
          0.40611353711790393,
          0.4192139737991266,
          0.4192139737991266,
          0.4279475982532751,
          0.4279475982532751,
          0.4410480349344978,
          0.4410480349344978,
          0.462882096069869,
          0.462882096069869,
          0.47161572052401746,
          0.47161572052401746,
          0.4890829694323144,
          0.4890829694323144,
          0.49344978165938863,
          0.49344978165938863,
          0.4978165938864629,
          0.4978165938864629,
          0.519650655021834,
          0.519650655021834,
          0.537117903930131,
          0.537117903930131,
          0.5414847161572053,
          0.5414847161572053,
          0.5502183406113537,
          0.5502183406113537,
          0.5545851528384279,
          0.5545851528384279,
          0.5676855895196506,
          0.5676855895196506,
          0.611353711790393,
          0.611353711790393,
          0.6157205240174672,
          0.6157205240174672,
          0.6200873362445415,
          0.6200873362445415,
          0.6462882096069869,
          0.6462882096069869,
          0.6506550218340611,
          0.6506550218340611,
          0.6593886462882096,
          0.6593886462882096,
          0.6812227074235808,
          0.6812227074235808,
          0.6986899563318777,
          0.6986899563318777,
          0.7205240174672489,
          0.7205240174672489,
          0.7292576419213974,
          0.7292576419213974,
          0.7336244541484717,
          0.7336244541484717,
          0.74235807860262,
          0.74235807860262,
          0.7467248908296943,
          0.7467248908296943,
          0.7729257641921398,
          0.7729257641921398,
          0.9039301310043668,
          0.9039301310043668,
          0.9344978165938864,
          0.9344978165938864,
          0.9388646288209607,
          0.9388646288209607,
          0.9432314410480349,
          0.9432314410480349,
          0.9563318777292577,
          0.9563318777292577,
          1
         ],
         "y": [
          0,
          0.001968503937007874,
          0.017716535433070866,
          0.017716535433070866,
          0.08858267716535433,
          0.08858267716535433,
          0.12007874015748031,
          0.12007874015748031,
          0.28346456692913385,
          0.28346456692913385,
          0.3031496062992126,
          0.3031496062992126,
          0.31496062992125984,
          0.31496062992125984,
          0.4035433070866142,
          0.4035433070866142,
          0.43700787401574803,
          0.43700787401574803,
          0.44881889763779526,
          0.44881889763779526,
          0.484251968503937,
          0.484251968503937,
          0.5216535433070866,
          0.5216535433070866,
          0.5275590551181102,
          0.5275590551181102,
          0.531496062992126,
          0.531496062992126,
          0.5492125984251969,
          0.5492125984251969,
          0.5551181102362205,
          0.5551181102362205,
          0.5688976377952756,
          0.5688976377952756,
          0.5708661417322834,
          0.5708661417322834,
          0.5866141732283464,
          0.5866141732283464,
          0.59251968503937,
          0.59251968503937,
          0.610236220472441,
          0.610236220472441,
          0.6161417322834646,
          0.6161417322834646,
          0.6220472440944882,
          0.6220472440944882,
          0.6259842519685039,
          0.6259842519685039,
          0.6417322834645669,
          0.6417322834645669,
          0.6437007874015748,
          0.6437007874015748,
          0.6476377952755905,
          0.6476377952755905,
          0.6811023622047244,
          0.6811023622047244,
          0.6929133858267716,
          0.6929133858267716,
          0.6968503937007874,
          0.6968503937007874,
          0.702755905511811,
          0.702755905511811,
          0.7047244094488189,
          0.7047244094488189,
          0.7066929133858267,
          0.7066929133858267,
          0.7125984251968503,
          0.7125984251968503,
          0.7145669291338582,
          0.7145669291338582,
          0.7165354330708661,
          0.7165354330708661,
          0.7224409448818898,
          0.7224409448818898,
          0.7322834645669292,
          0.7322834645669292,
          0.7460629921259843,
          0.7460629921259843,
          0.7559055118110236,
          0.7559055118110236,
          0.7578740157480315,
          0.7578740157480315,
          0.7775590551181102,
          0.7775590551181102,
          0.781496062992126,
          0.781496062992126,
          0.7854330708661418,
          0.7854330708661418,
          0.7874015748031497,
          0.7874015748031497,
          0.7893700787401575,
          0.7893700787401575,
          0.8011811023622047,
          0.8011811023622047,
          0.8090551181102362,
          0.8090551181102362,
          0.8110236220472441,
          0.8110236220472441,
          0.8169291338582677,
          0.8169291338582677,
          0.8248031496062992,
          0.8248031496062992,
          0.8326771653543307,
          0.8326771653543307,
          0.844488188976378,
          0.844488188976378,
          0.8484251968503937,
          0.8484251968503937,
          0.8523622047244095,
          0.8523622047244095,
          0.8543307086614174,
          0.8543307086614174,
          0.8562992125984252,
          0.8562992125984252,
          0.860236220472441,
          0.860236220472441,
          0.8641732283464567,
          0.8641732283464567,
          0.8661417322834646,
          0.8661417322834646,
          0.8700787401574803,
          0.8700787401574803,
          0.8720472440944882,
          0.8720472440944882,
          0.8759842519685039,
          0.8759842519685039,
          0.8779527559055118,
          0.8779527559055118,
          0.8799212598425197,
          0.8799212598425197,
          0.8818897637795275,
          0.8818897637795275,
          0.8838582677165354,
          0.8838582677165354,
          0.8858267716535433,
          0.8858267716535433,
          0.889763779527559,
          0.889763779527559,
          0.8917322834645669,
          0.8917322834645669,
          0.9094488188976378,
          0.9094488188976378,
          0.9133858267716536,
          0.9133858267716536,
          0.9192913385826772,
          0.9192913385826772,
          0.9232283464566929,
          0.9232283464566929,
          0.9251968503937008,
          0.9251968503937008,
          0.9271653543307087,
          0.9271653543307087,
          0.9311023622047244,
          0.9311023622047244,
          0.9350393700787402,
          0.9350393700787402,
          0.937007874015748,
          0.937007874015748,
          0.9389763779527559,
          0.9389763779527559,
          0.9409448818897638,
          0.9409448818897638,
          0.9429133858267716,
          0.9429133858267716,
          0.9448818897637795,
          0.9448818897637795,
          0.9507874015748031,
          0.9507874015748031,
          0.9547244094488189,
          0.9547244094488189,
          0.9566929133858267,
          0.9566929133858267,
          0.9586614173228346,
          0.9586614173228346,
          0.968503937007874,
          0.968503937007874,
          0.9704724409448819,
          0.9704724409448819,
          0.9724409448818898,
          0.9724409448818898,
          0.9744094488188977,
          0.9744094488188977,
          0.9763779527559056,
          0.9763779527559056,
          0.9783464566929134,
          0.9783464566929134,
          0.9862204724409449,
          0.9862204724409449,
          0.9881889763779528,
          0.9881889763779528,
          0.9901574803149606,
          0.9901574803149606,
          0.9921259842519685,
          0.9921259842519685,
          0.9940944881889764,
          0.9940944881889764,
          0.9960629921259843,
          0.9960629921259843,
          0.9980314960629921,
          0.9980314960629921,
          1,
          1
         ]
        },
        {
         "line": {
          "dash": "dash"
         },
         "mode": "lines",
         "name": "Random",
         "type": "scatter",
         "x": [
          0,
          1
         ],
         "y": [
          0,
          1
         ]
        }
       ],
       "layout": {
        "height": 500,
        "margin": {
         "b": 50,
         "l": 50,
         "r": 50,
         "t": 50
        },
        "template": {
         "data": {
          "bar": [
           {
            "error_x": {
             "color": "#2a3f5f"
            },
            "error_y": {
             "color": "#2a3f5f"
            },
            "marker": {
             "line": {
              "color": "#E5ECF6",
              "width": 0.5
             },
             "pattern": {
              "fillmode": "overlay",
              "size": 10,
              "solidity": 0.2
             }
            },
            "type": "bar"
           }
          ],
          "barpolar": [
           {
            "marker": {
             "line": {
              "color": "#E5ECF6",
              "width": 0.5
             },
             "pattern": {
              "fillmode": "overlay",
              "size": 10,
              "solidity": 0.2
             }
            },
            "type": "barpolar"
           }
          ],
          "carpet": [
           {
            "aaxis": {
             "endlinecolor": "#2a3f5f",
             "gridcolor": "white",
             "linecolor": "white",
             "minorgridcolor": "white",
             "startlinecolor": "#2a3f5f"
            },
            "baxis": {
             "endlinecolor": "#2a3f5f",
             "gridcolor": "white",
             "linecolor": "white",
             "minorgridcolor": "white",
             "startlinecolor": "#2a3f5f"
            },
            "type": "carpet"
           }
          ],
          "choropleth": [
           {
            "colorbar": {
             "outlinewidth": 0,
             "ticks": ""
            },
            "type": "choropleth"
           }
          ],
          "contour": [
           {
            "colorbar": {
             "outlinewidth": 0,
             "ticks": ""
            },
            "colorscale": [
             [
              0,
              "#0d0887"
             ],
             [
              0.1111111111111111,
              "#46039f"
             ],
             [
              0.2222222222222222,
              "#7201a8"
             ],
             [
              0.3333333333333333,
              "#9c179e"
             ],
             [
              0.4444444444444444,
              "#bd3786"
             ],
             [
              0.5555555555555556,
              "#d8576b"
             ],
             [
              0.6666666666666666,
              "#ed7953"
             ],
             [
              0.7777777777777778,
              "#fb9f3a"
             ],
             [
              0.8888888888888888,
              "#fdca26"
             ],
             [
              1,
              "#f0f921"
             ]
            ],
            "type": "contour"
           }
          ],
          "contourcarpet": [
           {
            "colorbar": {
             "outlinewidth": 0,
             "ticks": ""
            },
            "type": "contourcarpet"
           }
          ],
          "heatmap": [
           {
            "colorbar": {
             "outlinewidth": 0,
             "ticks": ""
            },
            "colorscale": [
             [
              0,
              "#0d0887"
             ],
             [
              0.1111111111111111,
              "#46039f"
             ],
             [
              0.2222222222222222,
              "#7201a8"
             ],
             [
              0.3333333333333333,
              "#9c179e"
             ],
             [
              0.4444444444444444,
              "#bd3786"
             ],
             [
              0.5555555555555556,
              "#d8576b"
             ],
             [
              0.6666666666666666,
              "#ed7953"
             ],
             [
              0.7777777777777778,
              "#fb9f3a"
             ],
             [
              0.8888888888888888,
              "#fdca26"
             ],
             [
              1,
              "#f0f921"
             ]
            ],
            "type": "heatmap"
           }
          ],
          "heatmapgl": [
           {
            "colorbar": {
             "outlinewidth": 0,
             "ticks": ""
            },
            "colorscale": [
             [
              0,
              "#0d0887"
             ],
             [
              0.1111111111111111,
              "#46039f"
             ],
             [
              0.2222222222222222,
              "#7201a8"
             ],
             [
              0.3333333333333333,
              "#9c179e"
             ],
             [
              0.4444444444444444,
              "#bd3786"
             ],
             [
              0.5555555555555556,
              "#d8576b"
             ],
             [
              0.6666666666666666,
              "#ed7953"
             ],
             [
              0.7777777777777778,
              "#fb9f3a"
             ],
             [
              0.8888888888888888,
              "#fdca26"
             ],
             [
              1,
              "#f0f921"
             ]
            ],
            "type": "heatmapgl"
           }
          ],
          "histogram": [
           {
            "marker": {
             "pattern": {
              "fillmode": "overlay",
              "size": 10,
              "solidity": 0.2
             }
            },
            "type": "histogram"
           }
          ],
          "histogram2d": [
           {
            "colorbar": {
             "outlinewidth": 0,
             "ticks": ""
            },
            "colorscale": [
             [
              0,
              "#0d0887"
             ],
             [
              0.1111111111111111,
              "#46039f"
             ],
             [
              0.2222222222222222,
              "#7201a8"
             ],
             [
              0.3333333333333333,
              "#9c179e"
             ],
             [
              0.4444444444444444,
              "#bd3786"
             ],
             [
              0.5555555555555556,
              "#d8576b"
             ],
             [
              0.6666666666666666,
              "#ed7953"
             ],
             [
              0.7777777777777778,
              "#fb9f3a"
             ],
             [
              0.8888888888888888,
              "#fdca26"
             ],
             [
              1,
              "#f0f921"
             ]
            ],
            "type": "histogram2d"
           }
          ],
          "histogram2dcontour": [
           {
            "colorbar": {
             "outlinewidth": 0,
             "ticks": ""
            },
            "colorscale": [
             [
              0,
              "#0d0887"
             ],
             [
              0.1111111111111111,
              "#46039f"
             ],
             [
              0.2222222222222222,
              "#7201a8"
             ],
             [
              0.3333333333333333,
              "#9c179e"
             ],
             [
              0.4444444444444444,
              "#bd3786"
             ],
             [
              0.5555555555555556,
              "#d8576b"
             ],
             [
              0.6666666666666666,
              "#ed7953"
             ],
             [
              0.7777777777777778,
              "#fb9f3a"
             ],
             [
              0.8888888888888888,
              "#fdca26"
             ],
             [
              1,
              "#f0f921"
             ]
            ],
            "type": "histogram2dcontour"
           }
          ],
          "mesh3d": [
           {
            "colorbar": {
             "outlinewidth": 0,
             "ticks": ""
            },
            "type": "mesh3d"
           }
          ],
          "parcoords": [
           {
            "line": {
             "colorbar": {
              "outlinewidth": 0,
              "ticks": ""
             }
            },
            "type": "parcoords"
           }
          ],
          "pie": [
           {
            "automargin": true,
            "type": "pie"
           }
          ],
          "scatter": [
           {
            "fillpattern": {
             "fillmode": "overlay",
             "size": 10,
             "solidity": 0.2
            },
            "type": "scatter"
           }
          ],
          "scatter3d": [
           {
            "line": {
             "colorbar": {
              "outlinewidth": 0,
              "ticks": ""
             }
            },
            "marker": {
             "colorbar": {
              "outlinewidth": 0,
              "ticks": ""
             }
            },
            "type": "scatter3d"
           }
          ],
          "scattercarpet": [
           {
            "marker": {
             "colorbar": {
              "outlinewidth": 0,
              "ticks": ""
             }
            },
            "type": "scattercarpet"
           }
          ],
          "scattergeo": [
           {
            "marker": {
             "colorbar": {
              "outlinewidth": 0,
              "ticks": ""
             }
            },
            "type": "scattergeo"
           }
          ],
          "scattergl": [
           {
            "marker": {
             "colorbar": {
              "outlinewidth": 0,
              "ticks": ""
             }
            },
            "type": "scattergl"
           }
          ],
          "scattermapbox": [
           {
            "marker": {
             "colorbar": {
              "outlinewidth": 0,
              "ticks": ""
             }
            },
            "type": "scattermapbox"
           }
          ],
          "scatterpolar": [
           {
            "marker": {
             "colorbar": {
              "outlinewidth": 0,
              "ticks": ""
             }
            },
            "type": "scatterpolar"
           }
          ],
          "scatterpolargl": [
           {
            "marker": {
             "colorbar": {
              "outlinewidth": 0,
              "ticks": ""
             }
            },
            "type": "scatterpolargl"
           }
          ],
          "scatterternary": [
           {
            "marker": {
             "colorbar": {
              "outlinewidth": 0,
              "ticks": ""
             }
            },
            "type": "scatterternary"
           }
          ],
          "surface": [
           {
            "colorbar": {
             "outlinewidth": 0,
             "ticks": ""
            },
            "colorscale": [
             [
              0,
              "#0d0887"
             ],
             [
              0.1111111111111111,
              "#46039f"
             ],
             [
              0.2222222222222222,
              "#7201a8"
             ],
             [
              0.3333333333333333,
              "#9c179e"
             ],
             [
              0.4444444444444444,
              "#bd3786"
             ],
             [
              0.5555555555555556,
              "#d8576b"
             ],
             [
              0.6666666666666666,
              "#ed7953"
             ],
             [
              0.7777777777777778,
              "#fb9f3a"
             ],
             [
              0.8888888888888888,
              "#fdca26"
             ],
             [
              1,
              "#f0f921"
             ]
            ],
            "type": "surface"
           }
          ],
          "table": [
           {
            "cells": {
             "fill": {
              "color": "#EBF0F8"
             },
             "line": {
              "color": "white"
             }
            },
            "header": {
             "fill": {
              "color": "#C8D4E3"
             },
             "line": {
              "color": "white"
             }
            },
            "type": "table"
           }
          ]
         },
         "layout": {
          "annotationdefaults": {
           "arrowcolor": "#2a3f5f",
           "arrowhead": 0,
           "arrowwidth": 1
          },
          "autotypenumbers": "strict",
          "coloraxis": {
           "colorbar": {
            "outlinewidth": 0,
            "ticks": ""
           }
          },
          "colorscale": {
           "diverging": [
            [
             0,
             "#8e0152"
            ],
            [
             0.1,
             "#c51b7d"
            ],
            [
             0.2,
             "#de77ae"
            ],
            [
             0.3,
             "#f1b6da"
            ],
            [
             0.4,
             "#fde0ef"
            ],
            [
             0.5,
             "#f7f7f7"
            ],
            [
             0.6,
             "#e6f5d0"
            ],
            [
             0.7,
             "#b8e186"
            ],
            [
             0.8,
             "#7fbc41"
            ],
            [
             0.9,
             "#4d9221"
            ],
            [
             1,
             "#276419"
            ]
           ],
           "sequential": [
            [
             0,
             "#0d0887"
            ],
            [
             0.1111111111111111,
             "#46039f"
            ],
            [
             0.2222222222222222,
             "#7201a8"
            ],
            [
             0.3333333333333333,
             "#9c179e"
            ],
            [
             0.4444444444444444,
             "#bd3786"
            ],
            [
             0.5555555555555556,
             "#d8576b"
            ],
            [
             0.6666666666666666,
             "#ed7953"
            ],
            [
             0.7777777777777778,
             "#fb9f3a"
            ],
            [
             0.8888888888888888,
             "#fdca26"
            ],
            [
             1,
             "#f0f921"
            ]
           ],
           "sequentialminus": [
            [
             0,
             "#0d0887"
            ],
            [
             0.1111111111111111,
             "#46039f"
            ],
            [
             0.2222222222222222,
             "#7201a8"
            ],
            [
             0.3333333333333333,
             "#9c179e"
            ],
            [
             0.4444444444444444,
             "#bd3786"
            ],
            [
             0.5555555555555556,
             "#d8576b"
            ],
            [
             0.6666666666666666,
             "#ed7953"
            ],
            [
             0.7777777777777778,
             "#fb9f3a"
            ],
            [
             0.8888888888888888,
             "#fdca26"
            ],
            [
             1,
             "#f0f921"
            ]
           ]
          },
          "colorway": [
           "#636efa",
           "#EF553B",
           "#00cc96",
           "#ab63fa",
           "#FFA15A",
           "#19d3f3",
           "#FF6692",
           "#B6E880",
           "#FF97FF",
           "#FECB52"
          ],
          "font": {
           "color": "#2a3f5f"
          },
          "geo": {
           "bgcolor": "white",
           "lakecolor": "white",
           "landcolor": "#E5ECF6",
           "showlakes": true,
           "showland": true,
           "subunitcolor": "white"
          },
          "hoverlabel": {
           "align": "left"
          },
          "hovermode": "closest",
          "mapbox": {
           "style": "light"
          },
          "paper_bgcolor": "white",
          "plot_bgcolor": "#E5ECF6",
          "polar": {
           "angularaxis": {
            "gridcolor": "white",
            "linecolor": "white",
            "ticks": ""
           },
           "bgcolor": "#E5ECF6",
           "radialaxis": {
            "gridcolor": "white",
            "linecolor": "white",
            "ticks": ""
           }
          },
          "scene": {
           "xaxis": {
            "backgroundcolor": "#E5ECF6",
            "gridcolor": "white",
            "gridwidth": 2,
            "linecolor": "white",
            "showbackground": true,
            "ticks": "",
            "zerolinecolor": "white"
           },
           "yaxis": {
            "backgroundcolor": "#E5ECF6",
            "gridcolor": "white",
            "gridwidth": 2,
            "linecolor": "white",
            "showbackground": true,
            "ticks": "",
            "zerolinecolor": "white"
           },
           "zaxis": {
            "backgroundcolor": "#E5ECF6",
            "gridcolor": "white",
            "gridwidth": 2,
            "linecolor": "white",
            "showbackground": true,
            "ticks": "",
            "zerolinecolor": "white"
           }
          },
          "shapedefaults": {
           "line": {
            "color": "#2a3f5f"
           }
          },
          "ternary": {
           "aaxis": {
            "gridcolor": "white",
            "linecolor": "white",
            "ticks": ""
           },
           "baxis": {
            "gridcolor": "white",
            "linecolor": "white",
            "ticks": ""
           },
           "bgcolor": "#E5ECF6",
           "caxis": {
            "gridcolor": "white",
            "linecolor": "white",
            "ticks": ""
           }
          },
          "title": {
           "x": 0.05
          },
          "xaxis": {
           "automargin": true,
           "gridcolor": "white",
           "linecolor": "white",
           "ticks": "",
           "title": {
            "standoff": 15
           },
           "zerolinecolor": "white",
           "zerolinewidth": 2
          },
          "yaxis": {
           "automargin": true,
           "gridcolor": "white",
           "linecolor": "white",
           "ticks": "",
           "title": {
            "standoff": 15
           },
           "zerolinecolor": "white",
           "zerolinewidth": 2
          }
         }
        },
        "title": {
         "text": "ROC Curve",
         "x": 0.5
        },
        "width": 800,
        "xaxis": {
         "title": {
          "text": "False Positive Rate"
         }
        },
        "yaxis": {
         "title": {
          "text": "True Positive Rate"
         }
        }
       }
      },
      "text/html": [
       "<div>                            <div id=\"7b55d6f4-5ceb-415e-b75e-7119f25c1800\" class=\"plotly-graph-div\" style=\"height:500px; width:800px;\"></div>            <script type=\"text/javascript\">                require([\"plotly\"], function(Plotly) {                    window.PLOTLYENV=window.PLOTLYENV || {};                                    if (document.getElementById(\"7b55d6f4-5ceb-415e-b75e-7119f25c1800\")) {                    Plotly.newPlot(                        \"7b55d6f4-5ceb-415e-b75e-7119f25c1800\",                        [{\"mode\":\"lines\",\"name\":\"Logistic Regression (AUC = 0.86)\",\"x\":[0.0,0.0,0.0,0.004366812227074236,0.004366812227074236,0.008733624454148471,0.008733624454148471,0.013100436681222707,0.013100436681222707,0.017467248908296942,0.017467248908296942,0.021834061135371178,0.021834061135371178,0.026200873362445413,0.026200873362445413,0.03056768558951965,0.03056768558951965,0.039301310043668124,0.039301310043668124,0.043668122270742356,0.043668122270742356,0.048034934497816595,0.048034934497816595,0.05240174672489083,0.05240174672489083,0.056768558951965066,0.056768558951965066,0.0611353711790393,0.0611353711790393,0.06986899563318777,0.06986899563318777,0.07423580786026202,0.07423580786026202,0.07860262008733625,0.07860262008733625,0.08296943231441048,0.08296943231441048,0.09170305676855896,0.09170305676855896,0.09606986899563319,0.09606986899563319,0.10043668122270742,0.10043668122270742,0.10480349344978165,0.10480349344978165,0.1091703056768559,0.1091703056768559,0.11790393013100436,0.11790393013100436,0.1222707423580786,0.1222707423580786,0.13100436681222707,0.13100436681222707,0.13537117903930132,0.13537117903930132,0.13973799126637554,0.13973799126637554,0.1572052401746725,0.1572052401746725,0.1615720524017467,0.1615720524017467,0.16593886462882096,0.16593886462882096,0.1703056768558952,0.1703056768558952,0.17467248908296942,0.17467248908296942,0.17903930131004367,0.17903930131004367,0.19213973799126638,0.19213973799126638,0.1965065502183406,0.1965065502183406,0.2052401746724891,0.2052401746724891,0.2096069868995633,0.2096069868995633,0.21397379912663755,0.21397379912663755,0.2183406113537118,0.2183406113537118,0.22270742358078602,0.22270742358078602,0.22707423580786026,0.22707423580786026,0.23580786026200873,0.23580786026200873,0.2445414847161572,0.2445414847161572,0.25327510917030566,0.25327510917030566,0.2576419213973799,0.2576419213973799,0.27074235807860264,0.27074235807860264,0.27510917030567683,0.27510917030567683,0.2838427947598253,0.2838427947598253,0.2925764192139738,0.2925764192139738,0.29694323144104806,0.29694323144104806,0.314410480349345,0.314410480349345,0.3231441048034934,0.3231441048034934,0.32751091703056767,0.32751091703056767,0.3318777292576419,0.3318777292576419,0.34497816593886466,0.34497816593886466,0.34934497816593885,0.34934497816593885,0.3537117903930131,0.3537117903930131,0.35807860262008734,0.35807860262008734,0.3624454148471616,0.3624454148471616,0.36681222707423583,0.36681222707423583,0.3799126637554585,0.3799126637554585,0.38427947598253276,0.38427947598253276,0.388646288209607,0.388646288209607,0.3930131004366812,0.3930131004366812,0.40611353711790393,0.40611353711790393,0.4279475982532751,0.4279475982532751,0.4410480349344978,0.4410480349344978,0.45414847161572053,0.45414847161572053,0.47161572052401746,0.47161572052401746,0.4759825327510917,0.4759825327510917,0.4890829694323144,0.4890829694323144,0.49344978165938863,0.49344978165938863,0.5065502183406113,0.5065502183406113,0.5152838427947598,0.5152838427947598,0.519650655021834,0.519650655021834,0.5327510917030568,0.5327510917030568,0.5414847161572053,0.5414847161572053,0.5458515283842795,0.5458515283842795,0.5633187772925764,0.5633187772925764,0.5676855895196506,0.5676855895196506,0.5764192139737991,0.5764192139737991,0.5851528384279476,0.5851528384279476,0.5895196506550219,0.5895196506550219,0.611353711790393,0.611353711790393,0.6157205240174672,0.6157205240174672,0.6331877729257642,0.6331877729257642,0.6637554585152838,0.6637554585152838,0.6724890829694323,0.6724890829694323,0.6812227074235808,0.6812227074235808,0.6943231441048034,0.6943231441048034,0.6986899563318777,0.6986899563318777,0.7074235807860262,0.7074235807860262,0.7205240174672489,0.7205240174672489,0.7379912663755459,0.7379912663755459,0.7903930131004366,0.7903930131004366,0.7947598253275109,0.7947598253275109,0.8078602620087336,0.8078602620087336,0.851528384279476,0.851528384279476,0.8777292576419214,0.8777292576419214,0.8995633187772926,0.8995633187772926,0.9039301310043668,0.9039301310043668,0.9650655021834061,0.9650655021834061,0.9868995633187773,0.9868995633187773,1.0],\"y\":[0.0,0.001968503937007874,0.0984251968503937,0.0984251968503937,0.11811023622047244,0.11811023622047244,0.12401574803149606,0.12401574803149606,0.2755905511811024,0.2755905511811024,0.2854330708661417,0.2854330708661417,0.36811023622047245,0.36811023622047245,0.4094488188976378,0.4094488188976378,0.4468503937007874,0.4468503937007874,0.452755905511811,0.452755905511811,0.4704724409448819,0.4704724409448819,0.4744094488188976,0.4744094488188976,0.4862204724409449,0.4862204724409449,0.5019685039370079,0.5019685039370079,0.5216535433070866,0.5216535433070866,0.547244094488189,0.547244094488189,0.5531496062992126,0.5531496062992126,0.5570866141732284,0.5570866141732284,0.5708661417322834,0.5708661417322834,0.5905511811023622,0.5905511811023622,0.6043307086614174,0.6043307086614174,0.6240157480314961,0.6240157480314961,0.6279527559055118,0.6279527559055118,0.6377952755905512,0.6377952755905512,0.655511811023622,0.655511811023622,0.6594488188976378,0.6594488188976378,0.6614173228346457,0.6614173228346457,0.6653543307086615,0.6653543307086615,0.6673228346456693,0.6673228346456693,0.6988188976377953,0.6988188976377953,0.7007874015748031,0.7007874015748031,0.7066929133858267,0.7066929133858267,0.7106299212598425,0.7106299212598425,0.7165354330708661,0.7165354330708661,0.7244094488188977,0.7244094488188977,0.7795275590551181,0.7795275590551181,0.781496062992126,0.781496062992126,0.7854330708661418,0.7854330708661418,0.7913385826771654,0.7913385826771654,0.7933070866141733,0.7933070866141733,0.797244094488189,0.797244094488189,0.7992125984251969,0.7992125984251969,0.8011811023622047,0.8011811023622047,0.8031496062992126,0.8031496062992126,0.8051181102362205,0.8051181102362205,0.8090551181102362,0.8090551181102362,0.8149606299212598,0.8149606299212598,0.8169291338582677,0.8169291338582677,0.8188976377952756,0.8188976377952756,0.8248031496062992,0.8248031496062992,0.8267716535433071,0.8267716535433071,0.8307086614173228,0.8307086614173228,0.8346456692913385,0.8346456692913385,0.8405511811023622,0.8405511811023622,0.8484251968503937,0.8484251968503937,0.8543307086614174,0.8543307086614174,0.8681102362204725,0.8681102362204725,0.8720472440944882,0.8720472440944882,0.8759842519685039,0.8759842519685039,0.8779527559055118,0.8779527559055118,0.8799212598425197,0.8799212598425197,0.8818897637795275,0.8818897637795275,0.8838582677165354,0.8838582677165354,0.8858267716535433,0.8858267716535433,0.889763779527559,0.889763779527559,0.8917322834645669,0.8917322834645669,0.8996062992125984,0.8996062992125984,0.9035433070866141,0.9035433070866141,0.90748031496063,0.90748031496063,0.9094488188976378,0.9094488188976378,0.9114173228346457,0.9114173228346457,0.9133858267716536,0.9133858267716536,0.9192913385826772,0.9192913385826772,0.9212598425196851,0.9212598425196851,0.9232283464566929,0.9232283464566929,0.9311023622047244,0.9311023622047244,0.9330708661417323,0.9330708661417323,0.9350393700787402,0.9350393700787402,0.937007874015748,0.937007874015748,0.9389763779527559,0.9389763779527559,0.9409448818897638,0.9409448818897638,0.9429133858267716,0.9429133858267716,0.9448818897637795,0.9448818897637795,0.9468503937007874,0.9468503937007874,0.9488188976377953,0.9488188976377953,0.9507874015748031,0.9507874015748031,0.952755905511811,0.952755905511811,0.9547244094488189,0.9547244094488189,0.9566929133858267,0.9566929133858267,0.9625984251968503,0.9625984251968503,0.9665354330708661,0.9665354330708661,0.9744094488188977,0.9744094488188977,0.9763779527559056,0.9763779527559056,0.9783464566929134,0.9783464566929134,0.9803149606299213,0.9803149606299213,0.9822834645669292,0.9822834645669292,0.984251968503937,0.984251968503937,0.9862204724409449,0.9862204724409449,0.9881889763779528,0.9881889763779528,0.9901574803149606,0.9901574803149606,0.9921259842519685,0.9921259842519685,0.9940944881889764,0.9940944881889764,0.9960629921259843,0.9960629921259843,0.9980314960629921,0.9980314960629921,1.0,1.0],\"type\":\"scatter\"},{\"mode\":\"lines\",\"name\":\"Decision Tree (AUC = 0.82)\",\"x\":[0.0,0.004366812227074236,0.017467248908296942,0.048034934497816595,0.048034934497816595,0.07860262008733625,0.08296943231441048,0.08733624454148471,0.08733624454148471,0.22270742358078602,0.2445414847161572,0.2445414847161572,0.2663755458515284,0.27074235807860264,0.27510917030567683,0.27510917030567683,0.29694323144104806,0.30131004366812225,0.388646288209607,0.40611353711790393,0.43231441048034935,0.45414847161572053,0.5283842794759825,0.7991266375545851,0.8122270742358079,0.9868995633187773,1.0],\"y\":[0.0,0.0,0.19094488188976377,0.33661417322834647,0.3838582677165354,0.40551181102362205,0.4862204724409449,0.515748031496063,0.5196850393700787,0.718503937007874,0.7401574803149606,0.7440944881889764,0.7736220472440944,0.781496062992126,0.7874015748031497,0.7893700787401575,0.8090551181102362,0.8169291338582677,0.8543307086614174,0.8543307086614174,0.8700787401574803,0.889763779527559,0.9212598425196851,0.9645669291338582,0.9665354330708661,0.9960629921259843,1.0],\"type\":\"scatter\"},{\"mode\":\"lines\",\"name\":\"Random Forest (AUC = 0.84)\",\"x\":[0.0,0.0,0.0,0.004366812227074236,0.004366812227074236,0.008733624454148471,0.008733624454148471,0.013100436681222707,0.013100436681222707,0.017467248908296942,0.017467248908296942,0.021834061135371178,0.021834061135371178,0.026200873362445413,0.026200873362445413,0.03056768558951965,0.03056768558951965,0.034934497816593885,0.034934497816593885,0.039301310043668124,0.039301310043668124,0.048034934497816595,0.048034934497816595,0.05240174672489083,0.05240174672489083,0.056768558951965066,0.056768558951965066,0.0611353711790393,0.0611353711790393,0.06550218340611354,0.06550218340611354,0.06986899563318777,0.06986899563318777,0.07423580786026202,0.07423580786026202,0.07860262008733625,0.07860262008733625,0.08296943231441048,0.08296943231441048,0.08733624454148471,0.08733624454148471,0.09170305676855896,0.09170305676855896,0.09606986899563319,0.09606986899563319,0.10043668122270742,0.10043668122270742,0.10480349344978165,0.10480349344978165,0.11353711790393013,0.11353711790393013,0.11790393013100436,0.11790393013100436,0.1222707423580786,0.1222707423580786,0.13100436681222707,0.13100436681222707,0.13537117903930132,0.13537117903930132,0.13973799126637554,0.13973799126637554,0.14847161572052403,0.14847161572052403,0.15283842794759825,0.15283842794759825,0.1615720524017467,0.1615720524017467,0.1703056768558952,0.1703056768558952,0.17903930131004367,0.17903930131004367,0.18777292576419213,0.18777292576419213,0.2096069868995633,0.2096069868995633,0.21397379912663755,0.21397379912663755,0.22707423580786026,0.22707423580786026,0.23580786026200873,0.23580786026200873,0.24017467248908297,0.24017467248908297,0.2445414847161572,0.2445414847161572,0.24890829694323144,0.24890829694323144,0.2576419213973799,0.2576419213973799,0.26200873362445415,0.26200873362445415,0.2663755458515284,0.2663755458515284,0.27074235807860264,0.27074235807860264,0.27510917030567683,0.27510917030567683,0.28820960698689957,0.28820960698689957,0.30131004366812225,0.30131004366812225,0.3056768558951965,0.3056768558951965,0.31004366812227074,0.31004366812227074,0.314410480349345,0.314410480349345,0.31877729257641924,0.31877729257641924,0.32751091703056767,0.32751091703056767,0.3318777292576419,0.3318777292576419,0.33624454148471616,0.33624454148471616,0.3406113537117904,0.3406113537117904,0.34497816593886466,0.34497816593886466,0.35807860262008734,0.35807860262008734,0.3624454148471616,0.3624454148471616,0.37117903930131,0.37117903930131,0.37554585152838427,0.37554585152838427,0.3799126637554585,0.3799126637554585,0.38427947598253276,0.38427947598253276,0.3930131004366812,0.3930131004366812,0.39737991266375544,0.39737991266375544,0.4017467248908297,0.4017467248908297,0.40611353711790393,0.40611353711790393,0.4148471615720524,0.4148471615720524,0.4192139737991266,0.4192139737991266,0.42358078602620086,0.42358078602620086,0.4279475982532751,0.4279475982532751,0.4410480349344978,0.4410480349344978,0.4585152838427948,0.4585152838427948,0.47161572052401746,0.47161572052401746,0.4759825327510917,0.4759825327510917,0.49344978165938863,0.49344978165938863,0.4978165938864629,0.4978165938864629,0.5065502183406113,0.5065502183406113,0.519650655021834,0.519650655021834,0.5240174672489083,0.5240174672489083,0.537117903930131,0.537117903930131,0.5502183406113537,0.5502183406113537,0.5545851528384279,0.5545851528384279,0.5720524017467249,0.5720524017467249,0.5807860262008734,0.5807860262008734,0.5851528384279476,0.5851528384279476,0.5895196506550219,0.5895196506550219,0.5938864628820961,0.5938864628820961,0.6026200873362445,0.6026200873362445,0.611353711790393,0.611353711790393,0.62882096069869,0.62882096069869,0.6331877729257642,0.6331877729257642,0.6375545851528385,0.6375545851528385,0.6593886462882096,0.6593886462882096,0.6899563318777293,0.6899563318777293,0.7292576419213974,0.7292576419213974,0.7510917030567685,0.7510917030567685,0.7554585152838428,0.7554585152838428,0.7685589519650655,0.7685589519650655,0.7729257641921398,0.7729257641921398,0.7947598253275109,0.7947598253275109,0.8384279475982532,0.8384279475982532,0.8602620087336245,0.8602620087336245,0.868995633187773,0.868995633187773,0.8733624454148472,0.8733624454148472,0.8820960698689956,0.8820960698689956,0.8864628820960698,0.8864628820960698,0.9213973799126638,0.9213973799126638,0.9475982532751092,0.9475982532751092,1.0],\"y\":[0.0,0.001968503937007874,0.02952755905511811,0.02952755905511811,0.13188976377952755,0.13188976377952755,0.15748031496062992,0.15748031496062992,0.16338582677165353,0.16338582677165353,0.17519685039370078,0.17519685039370078,0.20866141732283464,0.20866141732283464,0.2263779527559055,0.2263779527559055,0.25196850393700787,0.25196850393700787,0.281496062992126,0.281496062992126,0.3464566929133858,0.3464566929133858,0.35826771653543305,0.35826771653543305,0.4035433070866142,0.4035433070866142,0.4074803149606299,0.4074803149606299,0.452755905511811,0.452755905511811,0.4625984251968504,0.4625984251968504,0.4704724409448819,0.4704724409448819,0.4744094488188976,0.4744094488188976,0.4763779527559055,0.4763779527559055,0.5433070866141733,0.5433070866141733,0.5807086614173228,0.5807086614173228,0.6122047244094488,0.6122047244094488,0.6181102362204725,0.6181102362204725,0.639763779527559,0.639763779527559,0.655511811023622,0.655511811023622,0.65748031496063,0.65748031496063,0.6673228346456693,0.6673228346456693,0.6712598425196851,0.6712598425196851,0.6909448818897638,0.6909448818897638,0.6988188976377953,0.6988188976377953,0.7007874015748031,0.7007874015748031,0.718503937007874,0.718503937007874,0.7204724409448819,0.7204724409448819,0.7322834645669292,0.7322834645669292,0.7440944881889764,0.7440944881889764,0.7460629921259843,0.7460629921259843,0.7519685039370079,0.7519685039370079,0.7598425196850394,0.7598425196850394,0.765748031496063,0.765748031496063,0.7677165354330708,0.7677165354330708,0.7716535433070866,0.7716535433070866,0.7775590551181102,0.7775590551181102,0.7834645669291339,0.7834645669291339,0.7854330708661418,0.7854330708661418,0.7893700787401575,0.7893700787401575,0.7933070866141733,0.7933070866141733,0.7952755905511811,0.7952755905511811,0.8051181102362205,0.8051181102362205,0.812992125984252,0.812992125984252,0.8149606299212598,0.8149606299212598,0.8188976377952756,0.8188976377952756,0.8228346456692913,0.8228346456692913,0.8248031496062992,0.8248031496062992,0.8267716535433071,0.8267716535433071,0.8287401574803149,0.8287401574803149,0.8346456692913385,0.8346456692913385,0.8366141732283464,0.8366141732283464,0.8385826771653543,0.8385826771653543,0.844488188976378,0.844488188976378,0.8484251968503937,0.8484251968503937,0.8503937007874016,0.8503937007874016,0.8582677165354331,0.8582677165354331,0.860236220472441,0.860236220472441,0.8661417322834646,0.8661417322834646,0.8681102362204725,0.8681102362204725,0.8700787401574803,0.8700787401574803,0.8720472440944882,0.8720472440944882,0.8759842519685039,0.8759842519685039,0.8779527559055118,0.8779527559055118,0.8818897637795275,0.8818897637795275,0.8838582677165354,0.8838582677165354,0.8858267716535433,0.8858267716535433,0.8877952755905512,0.8877952755905512,0.9015748031496063,0.9015748031496063,0.9035433070866141,0.9035433070866141,0.905511811023622,0.905511811023622,0.90748031496063,0.90748031496063,0.9094488188976378,0.9094488188976378,0.9114173228346457,0.9114173228346457,0.9133858267716536,0.9133858267716536,0.9173228346456693,0.9173228346456693,0.9192913385826772,0.9192913385826772,0.9232283464566929,0.9232283464566929,0.9251968503937008,0.9251968503937008,0.9311023622047244,0.9311023622047244,0.9330708661417323,0.9330708661417323,0.9389763779527559,0.9389763779527559,0.9409448818897638,0.9409448818897638,0.9429133858267716,0.9429133858267716,0.9448818897637795,0.9448818897637795,0.9468503937007874,0.9468503937007874,0.952755905511811,0.952755905511811,0.9547244094488189,0.9547244094488189,0.9586614173228346,0.9586614173228346,0.9606299212598425,0.9606299212598425,0.9625984251968503,0.9625984251968503,0.9645669291338582,0.9645669291338582,0.968503937007874,0.968503937007874,0.9704724409448819,0.9704724409448819,0.9724409448818898,0.9724409448818898,0.9744094488188977,0.9744094488188977,0.9763779527559056,0.9763779527559056,0.9803149606299213,0.9803149606299213,0.984251968503937,0.984251968503937,0.9862204724409449,0.9862204724409449,0.9881889763779528,0.9881889763779528,0.9901574803149606,0.9901574803149606,0.9921259842519685,0.9921259842519685,0.9940944881889764,0.9940944881889764,0.9960629921259843,0.9960629921259843,0.9980314960629921,0.9980314960629921,1.0,1.0],\"type\":\"scatter\"},{\"mode\":\"lines\",\"name\":\"XGBoost (AUC = 0.85)\",\"x\":[0.0,0.0,0.0,0.004366812227074236,0.004366812227074236,0.008733624454148471,0.008733624454148471,0.013100436681222707,0.013100436681222707,0.017467248908296942,0.017467248908296942,0.021834061135371178,0.021834061135371178,0.026200873362445413,0.026200873362445413,0.034934497816593885,0.034934497816593885,0.043668122270742356,0.043668122270742356,0.048034934497816595,0.048034934497816595,0.05240174672489083,0.05240174672489083,0.056768558951965066,0.056768558951965066,0.0611353711790393,0.0611353711790393,0.06550218340611354,0.06550218340611354,0.06986899563318777,0.06986899563318777,0.07423580786026202,0.07423580786026202,0.08733624454148471,0.08733624454148471,0.09170305676855896,0.09170305676855896,0.09606986899563319,0.09606986899563319,0.10043668122270742,0.10043668122270742,0.10480349344978165,0.10480349344978165,0.1091703056768559,0.1091703056768559,0.11353711790393013,0.11353711790393013,0.11790393013100436,0.11790393013100436,0.1222707423580786,0.1222707423580786,0.12663755458515283,0.12663755458515283,0.13100436681222707,0.13100436681222707,0.13537117903930132,0.13537117903930132,0.13973799126637554,0.13973799126637554,0.14410480349344978,0.14410480349344978,0.14847161572052403,0.14847161572052403,0.15283842794759825,0.15283842794759825,0.16593886462882096,0.16593886462882096,0.17467248908296942,0.17467248908296942,0.17903930131004367,0.17903930131004367,0.18777292576419213,0.18777292576419213,0.20087336244541484,0.20087336244541484,0.2052401746724891,0.2052401746724891,0.2096069868995633,0.2096069868995633,0.21397379912663755,0.21397379912663755,0.2314410480349345,0.2314410480349345,0.24017467248908297,0.24017467248908297,0.2445414847161572,0.2445414847161572,0.25327510917030566,0.25327510917030566,0.2576419213973799,0.2576419213973799,0.26200873362445415,0.26200873362445415,0.27074235807860264,0.27074235807860264,0.2794759825327511,0.2794759825327511,0.2838427947598253,0.2838427947598253,0.29694323144104806,0.29694323144104806,0.30131004366812225,0.30131004366812225,0.31004366812227074,0.31004366812227074,0.31877729257641924,0.31877729257641924,0.32751091703056767,0.32751091703056767,0.3318777292576419,0.3318777292576419,0.33624454148471616,0.33624454148471616,0.34934497816593885,0.34934497816593885,0.3537117903930131,0.3537117903930131,0.35807860262008734,0.35807860262008734,0.3624454148471616,0.3624454148471616,0.36681222707423583,0.36681222707423583,0.3799126637554585,0.3799126637554585,0.38427947598253276,0.38427947598253276,0.388646288209607,0.388646288209607,0.3930131004366812,0.3930131004366812,0.4017467248908297,0.4017467248908297,0.40611353711790393,0.40611353711790393,0.4192139737991266,0.4192139737991266,0.4279475982532751,0.4279475982532751,0.4410480349344978,0.4410480349344978,0.462882096069869,0.462882096069869,0.47161572052401746,0.47161572052401746,0.4890829694323144,0.4890829694323144,0.49344978165938863,0.49344978165938863,0.4978165938864629,0.4978165938864629,0.519650655021834,0.519650655021834,0.537117903930131,0.537117903930131,0.5414847161572053,0.5414847161572053,0.5502183406113537,0.5502183406113537,0.5545851528384279,0.5545851528384279,0.5676855895196506,0.5676855895196506,0.611353711790393,0.611353711790393,0.6157205240174672,0.6157205240174672,0.6200873362445415,0.6200873362445415,0.6462882096069869,0.6462882096069869,0.6506550218340611,0.6506550218340611,0.6593886462882096,0.6593886462882096,0.6812227074235808,0.6812227074235808,0.6986899563318777,0.6986899563318777,0.7205240174672489,0.7205240174672489,0.7292576419213974,0.7292576419213974,0.7336244541484717,0.7336244541484717,0.74235807860262,0.74235807860262,0.7467248908296943,0.7467248908296943,0.7729257641921398,0.7729257641921398,0.9039301310043668,0.9039301310043668,0.9344978165938864,0.9344978165938864,0.9388646288209607,0.9388646288209607,0.9432314410480349,0.9432314410480349,0.9563318777292577,0.9563318777292577,1.0],\"y\":[0.0,0.001968503937007874,0.017716535433070866,0.017716535433070866,0.08858267716535433,0.08858267716535433,0.12007874015748031,0.12007874015748031,0.28346456692913385,0.28346456692913385,0.3031496062992126,0.3031496062992126,0.31496062992125984,0.31496062992125984,0.4035433070866142,0.4035433070866142,0.43700787401574803,0.43700787401574803,0.44881889763779526,0.44881889763779526,0.484251968503937,0.484251968503937,0.5216535433070866,0.5216535433070866,0.5275590551181102,0.5275590551181102,0.531496062992126,0.531496062992126,0.5492125984251969,0.5492125984251969,0.5551181102362205,0.5551181102362205,0.5688976377952756,0.5688976377952756,0.5708661417322834,0.5708661417322834,0.5866141732283464,0.5866141732283464,0.59251968503937,0.59251968503937,0.610236220472441,0.610236220472441,0.6161417322834646,0.6161417322834646,0.6220472440944882,0.6220472440944882,0.6259842519685039,0.6259842519685039,0.6417322834645669,0.6417322834645669,0.6437007874015748,0.6437007874015748,0.6476377952755905,0.6476377952755905,0.6811023622047244,0.6811023622047244,0.6929133858267716,0.6929133858267716,0.6968503937007874,0.6968503937007874,0.702755905511811,0.702755905511811,0.7047244094488189,0.7047244094488189,0.7066929133858267,0.7066929133858267,0.7125984251968503,0.7125984251968503,0.7145669291338582,0.7145669291338582,0.7165354330708661,0.7165354330708661,0.7224409448818898,0.7224409448818898,0.7322834645669292,0.7322834645669292,0.7460629921259843,0.7460629921259843,0.7559055118110236,0.7559055118110236,0.7578740157480315,0.7578740157480315,0.7775590551181102,0.7775590551181102,0.781496062992126,0.781496062992126,0.7854330708661418,0.7854330708661418,0.7874015748031497,0.7874015748031497,0.7893700787401575,0.7893700787401575,0.8011811023622047,0.8011811023622047,0.8090551181102362,0.8090551181102362,0.8110236220472441,0.8110236220472441,0.8169291338582677,0.8169291338582677,0.8248031496062992,0.8248031496062992,0.8326771653543307,0.8326771653543307,0.844488188976378,0.844488188976378,0.8484251968503937,0.8484251968503937,0.8523622047244095,0.8523622047244095,0.8543307086614174,0.8543307086614174,0.8562992125984252,0.8562992125984252,0.860236220472441,0.860236220472441,0.8641732283464567,0.8641732283464567,0.8661417322834646,0.8661417322834646,0.8700787401574803,0.8700787401574803,0.8720472440944882,0.8720472440944882,0.8759842519685039,0.8759842519685039,0.8779527559055118,0.8779527559055118,0.8799212598425197,0.8799212598425197,0.8818897637795275,0.8818897637795275,0.8838582677165354,0.8838582677165354,0.8858267716535433,0.8858267716535433,0.889763779527559,0.889763779527559,0.8917322834645669,0.8917322834645669,0.9094488188976378,0.9094488188976378,0.9133858267716536,0.9133858267716536,0.9192913385826772,0.9192913385826772,0.9232283464566929,0.9232283464566929,0.9251968503937008,0.9251968503937008,0.9271653543307087,0.9271653543307087,0.9311023622047244,0.9311023622047244,0.9350393700787402,0.9350393700787402,0.937007874015748,0.937007874015748,0.9389763779527559,0.9389763779527559,0.9409448818897638,0.9409448818897638,0.9429133858267716,0.9429133858267716,0.9448818897637795,0.9448818897637795,0.9507874015748031,0.9507874015748031,0.9547244094488189,0.9547244094488189,0.9566929133858267,0.9566929133858267,0.9586614173228346,0.9586614173228346,0.968503937007874,0.968503937007874,0.9704724409448819,0.9704724409448819,0.9724409448818898,0.9724409448818898,0.9744094488188977,0.9744094488188977,0.9763779527559056,0.9763779527559056,0.9783464566929134,0.9783464566929134,0.9862204724409449,0.9862204724409449,0.9881889763779528,0.9881889763779528,0.9901574803149606,0.9901574803149606,0.9921259842519685,0.9921259842519685,0.9940944881889764,0.9940944881889764,0.9960629921259843,0.9960629921259843,0.9980314960629921,0.9980314960629921,1.0,1.0],\"type\":\"scatter\"},{\"line\":{\"dash\":\"dash\"},\"mode\":\"lines\",\"name\":\"Random\",\"x\":[0,1],\"y\":[0,1],\"type\":\"scatter\"}],                        {\"height\":500,\"margin\":{\"b\":50,\"l\":50,\"r\":50,\"t\":50},\"template\":{\"data\":{\"barpolar\":[{\"marker\":{\"line\":{\"color\":\"#E5ECF6\",\"width\":0.5},\"pattern\":{\"fillmode\":\"overlay\",\"size\":10,\"solidity\":0.2}},\"type\":\"barpolar\"}],\"bar\":[{\"error_x\":{\"color\":\"#2a3f5f\"},\"error_y\":{\"color\":\"#2a3f5f\"},\"marker\":{\"line\":{\"color\":\"#E5ECF6\",\"width\":0.5},\"pattern\":{\"fillmode\":\"overlay\",\"size\":10,\"solidity\":0.2}},\"type\":\"bar\"}],\"carpet\":[{\"aaxis\":{\"endlinecolor\":\"#2a3f5f\",\"gridcolor\":\"white\",\"linecolor\":\"white\",\"minorgridcolor\":\"white\",\"startlinecolor\":\"#2a3f5f\"},\"baxis\":{\"endlinecolor\":\"#2a3f5f\",\"gridcolor\":\"white\",\"linecolor\":\"white\",\"minorgridcolor\":\"white\",\"startlinecolor\":\"#2a3f5f\"},\"type\":\"carpet\"}],\"choropleth\":[{\"colorbar\":{\"outlinewidth\":0,\"ticks\":\"\"},\"type\":\"choropleth\"}],\"contourcarpet\":[{\"colorbar\":{\"outlinewidth\":0,\"ticks\":\"\"},\"type\":\"contourcarpet\"}],\"contour\":[{\"colorbar\":{\"outlinewidth\":0,\"ticks\":\"\"},\"colorscale\":[[0.0,\"#0d0887\"],[0.1111111111111111,\"#46039f\"],[0.2222222222222222,\"#7201a8\"],[0.3333333333333333,\"#9c179e\"],[0.4444444444444444,\"#bd3786\"],[0.5555555555555556,\"#d8576b\"],[0.6666666666666666,\"#ed7953\"],[0.7777777777777778,\"#fb9f3a\"],[0.8888888888888888,\"#fdca26\"],[1.0,\"#f0f921\"]],\"type\":\"contour\"}],\"heatmapgl\":[{\"colorbar\":{\"outlinewidth\":0,\"ticks\":\"\"},\"colorscale\":[[0.0,\"#0d0887\"],[0.1111111111111111,\"#46039f\"],[0.2222222222222222,\"#7201a8\"],[0.3333333333333333,\"#9c179e\"],[0.4444444444444444,\"#bd3786\"],[0.5555555555555556,\"#d8576b\"],[0.6666666666666666,\"#ed7953\"],[0.7777777777777778,\"#fb9f3a\"],[0.8888888888888888,\"#fdca26\"],[1.0,\"#f0f921\"]],\"type\":\"heatmapgl\"}],\"heatmap\":[{\"colorbar\":{\"outlinewidth\":0,\"ticks\":\"\"},\"colorscale\":[[0.0,\"#0d0887\"],[0.1111111111111111,\"#46039f\"],[0.2222222222222222,\"#7201a8\"],[0.3333333333333333,\"#9c179e\"],[0.4444444444444444,\"#bd3786\"],[0.5555555555555556,\"#d8576b\"],[0.6666666666666666,\"#ed7953\"],[0.7777777777777778,\"#fb9f3a\"],[0.8888888888888888,\"#fdca26\"],[1.0,\"#f0f921\"]],\"type\":\"heatmap\"}],\"histogram2dcontour\":[{\"colorbar\":{\"outlinewidth\":0,\"ticks\":\"\"},\"colorscale\":[[0.0,\"#0d0887\"],[0.1111111111111111,\"#46039f\"],[0.2222222222222222,\"#7201a8\"],[0.3333333333333333,\"#9c179e\"],[0.4444444444444444,\"#bd3786\"],[0.5555555555555556,\"#d8576b\"],[0.6666666666666666,\"#ed7953\"],[0.7777777777777778,\"#fb9f3a\"],[0.8888888888888888,\"#fdca26\"],[1.0,\"#f0f921\"]],\"type\":\"histogram2dcontour\"}],\"histogram2d\":[{\"colorbar\":{\"outlinewidth\":0,\"ticks\":\"\"},\"colorscale\":[[0.0,\"#0d0887\"],[0.1111111111111111,\"#46039f\"],[0.2222222222222222,\"#7201a8\"],[0.3333333333333333,\"#9c179e\"],[0.4444444444444444,\"#bd3786\"],[0.5555555555555556,\"#d8576b\"],[0.6666666666666666,\"#ed7953\"],[0.7777777777777778,\"#fb9f3a\"],[0.8888888888888888,\"#fdca26\"],[1.0,\"#f0f921\"]],\"type\":\"histogram2d\"}],\"histogram\":[{\"marker\":{\"pattern\":{\"fillmode\":\"overlay\",\"size\":10,\"solidity\":0.2}},\"type\":\"histogram\"}],\"mesh3d\":[{\"colorbar\":{\"outlinewidth\":0,\"ticks\":\"\"},\"type\":\"mesh3d\"}],\"parcoords\":[{\"line\":{\"colorbar\":{\"outlinewidth\":0,\"ticks\":\"\"}},\"type\":\"parcoords\"}],\"pie\":[{\"automargin\":true,\"type\":\"pie\"}],\"scatter3d\":[{\"line\":{\"colorbar\":{\"outlinewidth\":0,\"ticks\":\"\"}},\"marker\":{\"colorbar\":{\"outlinewidth\":0,\"ticks\":\"\"}},\"type\":\"scatter3d\"}],\"scattercarpet\":[{\"marker\":{\"colorbar\":{\"outlinewidth\":0,\"ticks\":\"\"}},\"type\":\"scattercarpet\"}],\"scattergeo\":[{\"marker\":{\"colorbar\":{\"outlinewidth\":0,\"ticks\":\"\"}},\"type\":\"scattergeo\"}],\"scattergl\":[{\"marker\":{\"colorbar\":{\"outlinewidth\":0,\"ticks\":\"\"}},\"type\":\"scattergl\"}],\"scattermapbox\":[{\"marker\":{\"colorbar\":{\"outlinewidth\":0,\"ticks\":\"\"}},\"type\":\"scattermapbox\"}],\"scatterpolargl\":[{\"marker\":{\"colorbar\":{\"outlinewidth\":0,\"ticks\":\"\"}},\"type\":\"scatterpolargl\"}],\"scatterpolar\":[{\"marker\":{\"colorbar\":{\"outlinewidth\":0,\"ticks\":\"\"}},\"type\":\"scatterpolar\"}],\"scatter\":[{\"fillpattern\":{\"fillmode\":\"overlay\",\"size\":10,\"solidity\":0.2},\"type\":\"scatter\"}],\"scatterternary\":[{\"marker\":{\"colorbar\":{\"outlinewidth\":0,\"ticks\":\"\"}},\"type\":\"scatterternary\"}],\"surface\":[{\"colorbar\":{\"outlinewidth\":0,\"ticks\":\"\"},\"colorscale\":[[0.0,\"#0d0887\"],[0.1111111111111111,\"#46039f\"],[0.2222222222222222,\"#7201a8\"],[0.3333333333333333,\"#9c179e\"],[0.4444444444444444,\"#bd3786\"],[0.5555555555555556,\"#d8576b\"],[0.6666666666666666,\"#ed7953\"],[0.7777777777777778,\"#fb9f3a\"],[0.8888888888888888,\"#fdca26\"],[1.0,\"#f0f921\"]],\"type\":\"surface\"}],\"table\":[{\"cells\":{\"fill\":{\"color\":\"#EBF0F8\"},\"line\":{\"color\":\"white\"}},\"header\":{\"fill\":{\"color\":\"#C8D4E3\"},\"line\":{\"color\":\"white\"}},\"type\":\"table\"}]},\"layout\":{\"annotationdefaults\":{\"arrowcolor\":\"#2a3f5f\",\"arrowhead\":0,\"arrowwidth\":1},\"autotypenumbers\":\"strict\",\"coloraxis\":{\"colorbar\":{\"outlinewidth\":0,\"ticks\":\"\"}},\"colorscale\":{\"diverging\":[[0,\"#8e0152\"],[0.1,\"#c51b7d\"],[0.2,\"#de77ae\"],[0.3,\"#f1b6da\"],[0.4,\"#fde0ef\"],[0.5,\"#f7f7f7\"],[0.6,\"#e6f5d0\"],[0.7,\"#b8e186\"],[0.8,\"#7fbc41\"],[0.9,\"#4d9221\"],[1,\"#276419\"]],\"sequential\":[[0.0,\"#0d0887\"],[0.1111111111111111,\"#46039f\"],[0.2222222222222222,\"#7201a8\"],[0.3333333333333333,\"#9c179e\"],[0.4444444444444444,\"#bd3786\"],[0.5555555555555556,\"#d8576b\"],[0.6666666666666666,\"#ed7953\"],[0.7777777777777778,\"#fb9f3a\"],[0.8888888888888888,\"#fdca26\"],[1.0,\"#f0f921\"]],\"sequentialminus\":[[0.0,\"#0d0887\"],[0.1111111111111111,\"#46039f\"],[0.2222222222222222,\"#7201a8\"],[0.3333333333333333,\"#9c179e\"],[0.4444444444444444,\"#bd3786\"],[0.5555555555555556,\"#d8576b\"],[0.6666666666666666,\"#ed7953\"],[0.7777777777777778,\"#fb9f3a\"],[0.8888888888888888,\"#fdca26\"],[1.0,\"#f0f921\"]]},\"colorway\":[\"#636efa\",\"#EF553B\",\"#00cc96\",\"#ab63fa\",\"#FFA15A\",\"#19d3f3\",\"#FF6692\",\"#B6E880\",\"#FF97FF\",\"#FECB52\"],\"font\":{\"color\":\"#2a3f5f\"},\"geo\":{\"bgcolor\":\"white\",\"lakecolor\":\"white\",\"landcolor\":\"#E5ECF6\",\"showlakes\":true,\"showland\":true,\"subunitcolor\":\"white\"},\"hoverlabel\":{\"align\":\"left\"},\"hovermode\":\"closest\",\"mapbox\":{\"style\":\"light\"},\"paper_bgcolor\":\"white\",\"plot_bgcolor\":\"#E5ECF6\",\"polar\":{\"angularaxis\":{\"gridcolor\":\"white\",\"linecolor\":\"white\",\"ticks\":\"\"},\"bgcolor\":\"#E5ECF6\",\"radialaxis\":{\"gridcolor\":\"white\",\"linecolor\":\"white\",\"ticks\":\"\"}},\"scene\":{\"xaxis\":{\"backgroundcolor\":\"#E5ECF6\",\"gridcolor\":\"white\",\"gridwidth\":2,\"linecolor\":\"white\",\"showbackground\":true,\"ticks\":\"\",\"zerolinecolor\":\"white\"},\"yaxis\":{\"backgroundcolor\":\"#E5ECF6\",\"gridcolor\":\"white\",\"gridwidth\":2,\"linecolor\":\"white\",\"showbackground\":true,\"ticks\":\"\",\"zerolinecolor\":\"white\"},\"zaxis\":{\"backgroundcolor\":\"#E5ECF6\",\"gridcolor\":\"white\",\"gridwidth\":2,\"linecolor\":\"white\",\"showbackground\":true,\"ticks\":\"\",\"zerolinecolor\":\"white\"}},\"shapedefaults\":{\"line\":{\"color\":\"#2a3f5f\"}},\"ternary\":{\"aaxis\":{\"gridcolor\":\"white\",\"linecolor\":\"white\",\"ticks\":\"\"},\"baxis\":{\"gridcolor\":\"white\",\"linecolor\":\"white\",\"ticks\":\"\"},\"bgcolor\":\"#E5ECF6\",\"caxis\":{\"gridcolor\":\"white\",\"linecolor\":\"white\",\"ticks\":\"\"}},\"title\":{\"x\":0.05},\"xaxis\":{\"automargin\":true,\"gridcolor\":\"white\",\"linecolor\":\"white\",\"ticks\":\"\",\"title\":{\"standoff\":15},\"zerolinecolor\":\"white\",\"zerolinewidth\":2},\"yaxis\":{\"automargin\":true,\"gridcolor\":\"white\",\"linecolor\":\"white\",\"ticks\":\"\",\"title\":{\"standoff\":15},\"zerolinecolor\":\"white\",\"zerolinewidth\":2}}},\"title\":{\"text\":\"ROC Curve\",\"x\":0.5},\"width\":800,\"xaxis\":{\"title\":{\"text\":\"False Positive Rate\"}},\"yaxis\":{\"title\":{\"text\":\"True Positive Rate\"}}},                        {\"responsive\": true}                    ).then(function(){\n",
       "                            \n",
       "var gd = document.getElementById('7b55d6f4-5ceb-415e-b75e-7119f25c1800');\n",
       "var x = new MutationObserver(function (mutations, observer) {{\n",
       "        var display = window.getComputedStyle(gd).display;\n",
       "        if (!display || display === 'none') {{\n",
       "            console.log([gd, 'removed!']);\n",
       "            Plotly.purge(gd);\n",
       "            observer.disconnect();\n",
       "        }}\n",
       "}});\n",
       "\n",
       "// Listen for the removal of the full notebook cells\n",
       "var notebookContainer = gd.closest('#notebook-container');\n",
       "if (notebookContainer) {{\n",
       "    x.observe(notebookContainer, {childList: true});\n",
       "}}\n",
       "\n",
       "// Listen for the clearing of the current output cell\n",
       "var outputEl = gd.closest('.output');\n",
       "if (outputEl) {{\n",
       "    x.observe(outputEl, {childList: true});\n",
       "}}\n",
       "\n",
       "                        })                };                });            </script>        </div>"
      ]
     },
     "metadata": {},
     "output_type": "display_data"
    },
    {
     "name": "stdout",
     "output_type": "stream",
     "text": [
      "\n",
      "\n",
      "Sorted Evaluation Results based on Accuracy:\n"
     ]
    },
    {
     "data": {
      "text/html": [
       "<div>\n",
       "<style scoped>\n",
       "    .dataframe tbody tr th:only-of-type {\n",
       "        vertical-align: middle;\n",
       "    }\n",
       "\n",
       "    .dataframe tbody tr th {\n",
       "        vertical-align: top;\n",
       "    }\n",
       "\n",
       "    .dataframe thead th {\n",
       "        text-align: right;\n",
       "    }\n",
       "</style>\n",
       "<table border=\"1\" class=\"dataframe\">\n",
       "  <thead>\n",
       "    <tr style=\"text-align: right;\">\n",
       "      <th></th>\n",
       "      <th>Accuracy</th>\n",
       "      <th>Precision</th>\n",
       "      <th>Recall</th>\n",
       "      <th>F1-Score</th>\n",
       "      <th>ROC-AUC</th>\n",
       "    </tr>\n",
       "  </thead>\n",
       "  <tbody>\n",
       "    <tr>\n",
       "      <th>Logistic Regression</th>\n",
       "      <td>0.800543</td>\n",
       "      <td>0.847784</td>\n",
       "      <td>0.866142</td>\n",
       "      <td>0.856865</td>\n",
       "      <td>0.855775</td>\n",
       "    </tr>\n",
       "    <tr>\n",
       "      <th>XGBoost</th>\n",
       "      <td>0.797829</td>\n",
       "      <td>0.841905</td>\n",
       "      <td>0.870079</td>\n",
       "      <td>0.855760</td>\n",
       "      <td>0.852663</td>\n",
       "    </tr>\n",
       "    <tr>\n",
       "      <th>Random Forest</th>\n",
       "      <td>0.789688</td>\n",
       "      <td>0.823853</td>\n",
       "      <td>0.883858</td>\n",
       "      <td>0.852802</td>\n",
       "      <td>0.844282</td>\n",
       "    </tr>\n",
       "    <tr>\n",
       "      <th>Decision Tree</th>\n",
       "      <td>0.778833</td>\n",
       "      <td>0.829828</td>\n",
       "      <td>0.854331</td>\n",
       "      <td>0.841901</td>\n",
       "      <td>0.818979</td>\n",
       "    </tr>\n",
       "  </tbody>\n",
       "</table>\n",
       "</div>"
      ],
      "text/plain": [
       "                     Accuracy  Precision    Recall  F1-Score   ROC-AUC\n",
       "Logistic Regression  0.800543   0.847784  0.866142  0.856865  0.855775\n",
       "XGBoost              0.797829   0.841905  0.870079  0.855760  0.852663\n",
       "Random Forest        0.789688   0.823853  0.883858  0.852802  0.844282\n",
       "Decision Tree        0.778833   0.829828  0.854331  0.841901  0.818979"
      ]
     },
     "execution_count": 12,
     "metadata": {},
     "output_type": "execute_result"
    }
   ],
   "source": [
    "# Models initialization\n",
    "models = {\n",
    "    'Logistic Regression': LogisticRegression(max_iter=1000, random_state=42),\n",
    "    'Decision Tree': DecisionTreeClassifier(max_depth=5, min_samples_split=5, random_state=42),\n",
    "    'Random Forest': RandomForestClassifier(n_estimators=100, max_depth=10, min_samples_split=5, random_state=42),\n",
    "    'XGBoost': XGBClassifier(n_estimators=100, max_depth=3, learning_rate=0.1, subsample=0.8, random_state=42)\n",
    "}\n",
    "\n",
    "# Store results in a dataframe\n",
    "results_df = pd.DataFrame(columns=['Accuracy', 'Precision', 'Recall', 'F1-Score', 'ROC-AUC'])\n",
    "\n",
    "# Initialize lists to store ROC curve data\n",
    "roc_curves = []\n",
    "\n",
    "# Initialize figure for confusion matrices\n",
    "fig_confusion_matrices = plt.figure(figsize=(20, 4))\n",
    "\n",
    "# Initialize figure for ROC curves\n",
    "fig_roc_curves = go.Figure()\n",
    "\n",
    "for idx, (name, model) in enumerate(models.items()):\n",
    "    model.fit(X_train, y_train)  # Training the model\n",
    "    y_pred = model.predict(X_test)  # Making predictions\n",
    "\n",
    "    # Evaluation metrics\n",
    "    accuracy = accuracy_score(y_test, y_pred)\n",
    "    precision = precision_score(y_test, y_pred)\n",
    "    recall = recall_score(y_test, y_pred)\n",
    "    f1 = f1_score(y_test, y_pred)\n",
    "\n",
    "    # ROC-AUC curve and score\n",
    "    y_pred_proba = model.predict_proba(X_test)[:, 1]  # Probability predictions for class 1\n",
    "    roc_auc = roc_auc_score(y_test, y_pred_proba)\n",
    "\n",
    "    # Confusion Matrix\n",
    "    cm = confusion_matrix(y_test, y_pred)\n",
    "    sns.heatmap(cm, annot=True, fmt='d', cmap='Blues', ax=fig_confusion_matrices.add_subplot(1, len(models), idx+1),\n",
    "                 xticklabels=['Unprofitable', 'Profitable'], yticklabels=['Unprofitable', 'Profitable'])\n",
    "    plt.title(f'Confusion Matrix - {name}')\n",
    "    plt.xlabel('Predicted labels')\n",
    "    plt.ylabel('True labels')\n",
    "\n",
    "    # Add results to dataframe\n",
    "    results_df.loc[name] = [accuracy, precision, recall, f1, roc_auc]\n",
    "\n",
    "    # ROC curve data\n",
    "    fpr, tpr, _ = roc_curve(y_test, y_pred_proba)\n",
    "    roc_curves.append((name, fpr, tpr, roc_auc))\n",
    "\n",
    "    # Add ROC curve trace to the plotly figure\n",
    "    fig_roc_curves.add_trace(go.Scatter(x=fpr, y=tpr, mode='lines', name=f'{name} (AUC = {roc_auc:.2f})'))\n",
    "\n",
    "fig_confusion_matrices.tight_layout()\n",
    "plt.show()\n",
    "\n",
    "# Layout settings for ROC curve plot\n",
    "fig_roc_curves.add_trace(go.Scatter(x=[0, 1], y=[0, 1], mode='lines', name='Random', line=dict(dash='dash')))\n",
    "fig_roc_curves.update_layout(title='ROC Curve',\n",
    "                             xaxis_title='False Positive Rate',\n",
    "                             yaxis_title='True Positive Rate',\n",
    "                             title_x=0.5,\n",
    "                             width=800,\n",
    "                             height=500,\n",
    "                             margin=dict(l=50, r=50, t=50, b=50))\n",
    "iplot(fig_roc_curves)\n",
    "\n",
    "# Sort dataframe based on accuracy\n",
    "results_df_sorted = results_df.sort_values(by='Accuracy', ascending=False)\n",
    "\n",
    "print(\"\\n\\nSorted Evaluation Results based on Accuracy:\")\n",
    "results_df_sorted"
   ]
  }
 ],
 "metadata": {
  "kernelspec": {
   "display_name": "base",
   "language": "python",
   "name": "python3"
  },
  "language_info": {
   "codemirror_mode": {
    "name": "ipython",
    "version": 3
   },
   "file_extension": ".py",
   "mimetype": "text/x-python",
   "name": "python",
   "nbconvert_exporter": "python",
   "pygments_lexer": "ipython3",
   "version": "3.9.13"
  }
 },
 "nbformat": 4,
 "nbformat_minor": 2
}
