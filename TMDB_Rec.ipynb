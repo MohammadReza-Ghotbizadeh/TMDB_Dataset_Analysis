{
 "cells": [
  {
   "cell_type": "markdown",
   "metadata": {},
   "source": [
    "## **Content-Based Recommender System for TMDB Movie Dataset**"
   ]
  },
  {
   "cell_type": "code",
   "execution_count": 1,
   "metadata": {},
   "outputs": [],
   "source": [
    "# Import libraries\n",
    "import re\n",
    "import ast\n",
    "import pandas as pd\n",
    "from sklearn.metrics.pairwise import cosine_similarity\n",
    "from sklearn.feature_extraction.text import TfidfVectorizer\n",
    "from sklearn.feature_extraction.text import CountVectorizer"
   ]
  },
  {
   "cell_type": "markdown",
   "metadata": {},
   "source": [
    "### *Preprocessing the Data*"
   ]
  },
  {
   "cell_type": "code",
   "execution_count": 2,
   "metadata": {},
   "outputs": [],
   "source": [
    "# Read data from csv file\n",
    "credits = pd.read_csv('tmdb_5000_credits.csv', encoding=\"utf-8\")\n",
    "movies = pd.read_csv('tmdb_5000_movies.csv', encoding=\"utf-8\")"
   ]
  },
  {
   "cell_type": "code",
   "execution_count": 3,
   "metadata": {},
   "outputs": [],
   "source": [
    "df = pd.merge(credits.drop(columns=['title']), movies, left_on='movie_id', right_on='id', how='inner')"
   ]
  },
  {
   "cell_type": "code",
   "execution_count": 4,
   "metadata": {},
   "outputs": [
    {
     "data": {
      "text/plain": [
       "(4803, 23)"
      ]
     },
     "execution_count": 4,
     "metadata": {},
     "output_type": "execute_result"
    }
   ],
   "source": [
    "df.shape"
   ]
  },
  {
   "cell_type": "code",
   "execution_count": 5,
   "metadata": {},
   "outputs": [
    {
     "data": {
      "text/plain": [
       "Index(['movie_id', 'cast', 'crew', 'budget', 'genres', 'homepage', 'id',\n",
       "       'keywords', 'original_language', 'original_title', 'overview',\n",
       "       'popularity', 'production_companies', 'production_countries',\n",
       "       'release_date', 'revenue', 'runtime', 'spoken_languages', 'status',\n",
       "       'tagline', 'title', 'vote_average', 'vote_count'],\n",
       "      dtype='object')"
      ]
     },
     "execution_count": 5,
     "metadata": {},
     "output_type": "execute_result"
    }
   ],
   "source": [
    "df.columns"
   ]
  },
  {
   "cell_type": "code",
   "execution_count": 6,
   "metadata": {},
   "outputs": [
    {
     "name": "stdout",
     "output_type": "stream",
     "text": [
      "<class 'pandas.core.frame.DataFrame'>\n",
      "RangeIndex: 4803 entries, 0 to 4802\n",
      "Data columns (total 23 columns):\n",
      " #   Column                Non-Null Count  Dtype  \n",
      "---  ------                --------------  -----  \n",
      " 0   movie_id              4803 non-null   int64  \n",
      " 1   cast                  4803 non-null   object \n",
      " 2   crew                  4803 non-null   object \n",
      " 3   budget                4803 non-null   int64  \n",
      " 4   genres                4803 non-null   object \n",
      " 5   homepage              1712 non-null   object \n",
      " 6   id                    4803 non-null   int64  \n",
      " 7   keywords              4803 non-null   object \n",
      " 8   original_language     4803 non-null   object \n",
      " 9   original_title        4803 non-null   object \n",
      " 10  overview              4800 non-null   object \n",
      " 11  popularity            4803 non-null   float64\n",
      " 12  production_companies  4803 non-null   object \n",
      " 13  production_countries  4803 non-null   object \n",
      " 14  release_date          4802 non-null   object \n",
      " 15  revenue               4803 non-null   int64  \n",
      " 16  runtime               4801 non-null   float64\n",
      " 17  spoken_languages      4803 non-null   object \n",
      " 18  status                4803 non-null   object \n",
      " 19  tagline               3959 non-null   object \n",
      " 20  title                 4803 non-null   object \n",
      " 21  vote_average          4803 non-null   float64\n",
      " 22  vote_count            4803 non-null   int64  \n",
      "dtypes: float64(3), int64(5), object(15)\n",
      "memory usage: 863.2+ KB\n"
     ]
    }
   ],
   "source": [
    "df.info()"
   ]
  },
  {
   "cell_type": "code",
   "execution_count": 7,
   "metadata": {},
   "outputs": [
    {
     "data": {
      "text/plain": [
       "movie_id                   0\n",
       "cast                       0\n",
       "crew                       0\n",
       "budget                     0\n",
       "genres                     0\n",
       "homepage                3091\n",
       "id                         0\n",
       "keywords                   0\n",
       "original_language          0\n",
       "original_title             0\n",
       "overview                   3\n",
       "popularity                 0\n",
       "production_companies       0\n",
       "production_countries       0\n",
       "release_date               1\n",
       "revenue                    0\n",
       "runtime                    2\n",
       "spoken_languages           0\n",
       "status                     0\n",
       "tagline                  844\n",
       "title                      0\n",
       "vote_average               0\n",
       "vote_count                 0\n",
       "dtype: int64"
      ]
     },
     "execution_count": 7,
     "metadata": {},
     "output_type": "execute_result"
    }
   ],
   "source": [
    "df.isna().sum()"
   ]
  },
  {
   "cell_type": "code",
   "execution_count": 8,
   "metadata": {},
   "outputs": [],
   "source": [
    "# Convert string representations of lists in selected columns to actual lists\n",
    "cols = ['cast', 'genres', 'keywords', 'production_companies', 'production_countries',  'spoken_languages']\n",
    "for col in cols:\n",
    "    df[col] = df[col].apply(ast.literal_eval)\n",
    "    df[col] = df[col].apply(lambda x: [d['name'] for d in x])"
   ]
  },
  {
   "cell_type": "code",
   "execution_count": 9,
   "metadata": {},
   "outputs": [
    {
     "data": {
      "text/html": [
       "<div>\n",
       "<style scoped>\n",
       "    .dataframe tbody tr th:only-of-type {\n",
       "        vertical-align: middle;\n",
       "    }\n",
       "\n",
       "    .dataframe tbody tr th {\n",
       "        vertical-align: top;\n",
       "    }\n",
       "\n",
       "    .dataframe thead th {\n",
       "        text-align: right;\n",
       "    }\n",
       "</style>\n",
       "<table border=\"1\" class=\"dataframe\">\n",
       "  <thead>\n",
       "    <tr style=\"text-align: right;\">\n",
       "      <th></th>\n",
       "      <th>cast</th>\n",
       "      <th>genres</th>\n",
       "      <th>keywords</th>\n",
       "      <th>production_companies</th>\n",
       "      <th>production_countries</th>\n",
       "      <th>spoken_languages</th>\n",
       "    </tr>\n",
       "  </thead>\n",
       "  <tbody>\n",
       "    <tr>\n",
       "      <th>0</th>\n",
       "      <td>[Sam Worthington, Zoe Saldana, Sigourney Weave...</td>\n",
       "      <td>[Action, Adventure, Fantasy, Science Fiction]</td>\n",
       "      <td>[culture clash, future, space war, space colon...</td>\n",
       "      <td>[Ingenious Film Partners, Twentieth Century Fo...</td>\n",
       "      <td>[United States of America, United Kingdom]</td>\n",
       "      <td>[English, Español]</td>\n",
       "    </tr>\n",
       "    <tr>\n",
       "      <th>1</th>\n",
       "      <td>[Johnny Depp, Orlando Bloom, Keira Knightley, ...</td>\n",
       "      <td>[Adventure, Fantasy, Action]</td>\n",
       "      <td>[ocean, drug abuse, exotic island, east india ...</td>\n",
       "      <td>[Walt Disney Pictures, Jerry Bruckheimer Films...</td>\n",
       "      <td>[United States of America]</td>\n",
       "      <td>[English]</td>\n",
       "    </tr>\n",
       "    <tr>\n",
       "      <th>2</th>\n",
       "      <td>[Daniel Craig, Christoph Waltz, Léa Seydoux, R...</td>\n",
       "      <td>[Action, Adventure, Crime]</td>\n",
       "      <td>[spy, based on novel, secret agent, sequel, mi...</td>\n",
       "      <td>[Columbia Pictures, Danjaq, B24]</td>\n",
       "      <td>[United Kingdom, United States of America]</td>\n",
       "      <td>[Français, English, Español, Italiano, Deutsch]</td>\n",
       "    </tr>\n",
       "    <tr>\n",
       "      <th>3</th>\n",
       "      <td>[Christian Bale, Michael Caine, Gary Oldman, A...</td>\n",
       "      <td>[Action, Crime, Drama, Thriller]</td>\n",
       "      <td>[dc comics, crime fighter, terrorist, secret i...</td>\n",
       "      <td>[Legendary Pictures, Warner Bros., DC Entertai...</td>\n",
       "      <td>[United States of America]</td>\n",
       "      <td>[English]</td>\n",
       "    </tr>\n",
       "    <tr>\n",
       "      <th>4</th>\n",
       "      <td>[Taylor Kitsch, Lynn Collins, Samantha Morton,...</td>\n",
       "      <td>[Action, Adventure, Science Fiction]</td>\n",
       "      <td>[based on novel, mars, medallion, space travel...</td>\n",
       "      <td>[Walt Disney Pictures]</td>\n",
       "      <td>[United States of America]</td>\n",
       "      <td>[English]</td>\n",
       "    </tr>\n",
       "  </tbody>\n",
       "</table>\n",
       "</div>"
      ],
      "text/plain": [
       "                                                cast  \\\n",
       "0  [Sam Worthington, Zoe Saldana, Sigourney Weave...   \n",
       "1  [Johnny Depp, Orlando Bloom, Keira Knightley, ...   \n",
       "2  [Daniel Craig, Christoph Waltz, Léa Seydoux, R...   \n",
       "3  [Christian Bale, Michael Caine, Gary Oldman, A...   \n",
       "4  [Taylor Kitsch, Lynn Collins, Samantha Morton,...   \n",
       "\n",
       "                                          genres  \\\n",
       "0  [Action, Adventure, Fantasy, Science Fiction]   \n",
       "1                   [Adventure, Fantasy, Action]   \n",
       "2                     [Action, Adventure, Crime]   \n",
       "3               [Action, Crime, Drama, Thriller]   \n",
       "4           [Action, Adventure, Science Fiction]   \n",
       "\n",
       "                                            keywords  \\\n",
       "0  [culture clash, future, space war, space colon...   \n",
       "1  [ocean, drug abuse, exotic island, east india ...   \n",
       "2  [spy, based on novel, secret agent, sequel, mi...   \n",
       "3  [dc comics, crime fighter, terrorist, secret i...   \n",
       "4  [based on novel, mars, medallion, space travel...   \n",
       "\n",
       "                                production_companies  \\\n",
       "0  [Ingenious Film Partners, Twentieth Century Fo...   \n",
       "1  [Walt Disney Pictures, Jerry Bruckheimer Films...   \n",
       "2                   [Columbia Pictures, Danjaq, B24]   \n",
       "3  [Legendary Pictures, Warner Bros., DC Entertai...   \n",
       "4                             [Walt Disney Pictures]   \n",
       "\n",
       "                         production_countries  \\\n",
       "0  [United States of America, United Kingdom]   \n",
       "1                  [United States of America]   \n",
       "2  [United Kingdom, United States of America]   \n",
       "3                  [United States of America]   \n",
       "4                  [United States of America]   \n",
       "\n",
       "                                  spoken_languages  \n",
       "0                               [English, Español]  \n",
       "1                                        [English]  \n",
       "2  [Français, English, Español, Italiano, Deutsch]  \n",
       "3                                        [English]  \n",
       "4                                        [English]  "
      ]
     },
     "execution_count": 9,
     "metadata": {},
     "output_type": "execute_result"
    }
   ],
   "source": [
    "df[cols].head()"
   ]
  },
  {
   "cell_type": "code",
   "execution_count": 10,
   "metadata": {},
   "outputs": [],
   "source": [
    "cols.append(['title', 'tagline', 'overview'])"
   ]
  },
  {
   "cell_type": "code",
   "execution_count": 11,
   "metadata": {},
   "outputs": [],
   "source": [
    "# Concatenate values of specified columns into a new column 'mixed'\n",
    "df['mixed'] = df.apply(lambda row: \" \".join([\" \".join(map(str, row[col])) for col in cols if col]), axis=1)"
   ]
  },
  {
   "cell_type": "code",
   "execution_count": 12,
   "metadata": {},
   "outputs": [],
   "source": [
    "# Convert the strings to lowercase\n",
    "df['mixed'] = df['mixed'].apply(lambda x: x.lower())"
   ]
  },
  {
   "cell_type": "code",
   "execution_count": 13,
   "metadata": {},
   "outputs": [],
   "source": [
    "# Remove special characters\n",
    "df['mixed'] = df['mixed'].apply(lambda x: re.sub(r'[^\\w\\s]', '', x))"
   ]
  },
  {
   "cell_type": "code",
   "execution_count": 14,
   "metadata": {},
   "outputs": [
    {
     "data": {
      "text/plain": [
       "'sam worthington zoe saldana sigourney weaver stephen lang michelle rodriguez giovanni ribisi joel david moore cch pounder wes studi laz alonso dileep rao matt gerald sean anthony moran jason whyte scott lawrence kelly kilgour james patrick pitt sean patrick murphy peter dillon kevin dorman kelson henderson david van horn jacob tomuri michael blainrozgay jon curry luke hawker woody schultz peter mensah sonia yee jahnel curfman ilram choi kyla warren lisa roumain debra wilson chris mala taylor kibby jodie landau julie lamm cullen b madden joseph brady madden frankie torres austin wilson sara wilson tamica washingtonmiller lucy briant nathan meister gerry blair matthew chamberlain paul yates wray wilson james gaylyn melvin leno clark iii carvon futrell brandon jelkes micah moch hanniyah muhammad christopher nolen christa oliver april marie thomas bravita a threatt colin bleasdale mike bodnar matt clayton nicole dionne jamie harrison allan henry anthony ingruber ashley jeffery dean knowsley joseph mikahunt terry notary kai pantano logan pithyou stuart pollock raja gareth ruck rhian sheehan t j storm jodie taylor alicia velabailey richard whiteside nikie zambo julene renee action adventure fantasy science fiction culture clash future space war space colony society space travel futuristic romance space alien tribe alien planet cgi marine soldier battle love affair anti war power relations mind and soul 3d ingenious film partners twentieth century fox film corporation dune entertainment lightstorm entertainment united states of america united kingdom english español avatar enter the world of pandora in the 22nd century a paraplegic marine is dispatched to the moon pandora on a unique mission but becomes torn between following orders and protecting an alien civilization'"
      ]
     },
     "execution_count": 14,
     "metadata": {},
     "output_type": "execute_result"
    }
   ],
   "source": [
    "df['mixed'][0]"
   ]
  },
  {
   "cell_type": "code",
   "execution_count": 15,
   "metadata": {},
   "outputs": [
    {
     "data": {
      "text/plain": [
       "0"
      ]
     },
     "execution_count": 15,
     "metadata": {},
     "output_type": "execute_result"
    }
   ],
   "source": [
    "df['mixed'].duplicated().sum()"
   ]
  },
  {
   "cell_type": "code",
   "execution_count": 16,
   "metadata": {},
   "outputs": [
    {
     "data": {
      "text/plain": [
       "0"
      ]
     },
     "execution_count": 16,
     "metadata": {},
     "output_type": "execute_result"
    }
   ],
   "source": [
    "df['mixed'].isna().sum()"
   ]
  },
  {
   "cell_type": "code",
   "execution_count": 17,
   "metadata": {},
   "outputs": [],
   "source": [
    "mixed_list = list(df['mixed'])"
   ]
  },
  {
   "cell_type": "markdown",
   "metadata": {},
   "source": [
    "#### *CountVectorizer (convert text to features)*"
   ]
  },
  {
   "cell_type": "code",
   "execution_count": 18,
   "metadata": {},
   "outputs": [],
   "source": [
    "#Importing Count Vectorizer\n",
    "cnt_vec = CountVectorizer(stop_words='english')"
   ]
  },
  {
   "cell_type": "markdown",
   "metadata": {},
   "source": [
    "#### *Cosine similarity*"
   ]
  },
  {
   "cell_type": "code",
   "execution_count": 19,
   "metadata": {},
   "outputs": [],
   "source": [
    "#Cosine similarity\n",
    "def find_similarity(cosine_sim_matrix, index, n):\n",
    "    \n",
    "    # calculate cosine similarity between each vectors\n",
    "    result = list(enumerate(cosine_sim_matrix[index]))\n",
    "    \n",
    "    # Sorting the Score\n",
    "    sorted_result = sorted(result, key=lambda x:x[1], reverse=True)[1:n+1]\n",
    "    \n",
    "    similar_movies = [{'value': df.iloc[x[0]]['title'],\n",
    "                         'score' : round(x[1], 2)} for x in sorted_result]\n",
    "    \n",
    "    return similar_movies"
   ]
  },
  {
   "cell_type": "markdown",
   "metadata": {},
   "source": [
    "#### *1. Build a Model Using CountVectorizer & Cosine similarity*"
   ]
  },
  {
   "cell_type": "code",
   "execution_count": 20,
   "metadata": {},
   "outputs": [],
   "source": [
    "#Comparing similarity to get the top matches using count Vec\n",
    "def get_recommendation_cv(movie_title, df, n):\n",
    "    try:\n",
    "        row = df.loc[df['title'] == movie_title.title()]\n",
    "        index = list(row.index)[0]\n",
    "    except:\n",
    "        print('Invalid movie title!')\n",
    "        return None\n",
    "    else:\n",
    "        #Create vector using Count Vectorizer\n",
    "        count_vector = cnt_vec.fit_transform(mixed_list)\n",
    "        sim_matrix = cosine_similarity(count_vector)\n",
    "        products = find_similarity(sim_matrix , index, n)\n",
    "        return products"
   ]
  },
  {
   "cell_type": "code",
   "execution_count": 21,
   "metadata": {},
   "outputs": [
    {
     "data": {
      "text/html": [
       "<style type=\"text/css\">\n",
       "#T_4dec8 th {\n",
       "  text-align: center;\n",
       "}\n",
       "#T_4dec8_row0_col0, #T_4dec8_row0_col1, #T_4dec8_row1_col0, #T_4dec8_row1_col1, #T_4dec8_row2_col0, #T_4dec8_row2_col1, #T_4dec8_row3_col0, #T_4dec8_row3_col1, #T_4dec8_row4_col0, #T_4dec8_row4_col1, #T_4dec8_row5_col0, #T_4dec8_row5_col1, #T_4dec8_row6_col0, #T_4dec8_row6_col1, #T_4dec8_row7_col0, #T_4dec8_row7_col1, #T_4dec8_row8_col0, #T_4dec8_row8_col1, #T_4dec8_row9_col0, #T_4dec8_row9_col1 {\n",
       "  text-align: left;\n",
       "}\n",
       "</style>\n",
       "<table id=\"T_4dec8\">\n",
       "  <thead>\n",
       "    <tr>\n",
       "      <th class=\"blank level0\" >&nbsp;</th>\n",
       "      <th id=\"T_4dec8_level0_col0\" class=\"col_heading level0 col0\" >Movie Title</th>\n",
       "      <th id=\"T_4dec8_level0_col1\" class=\"col_heading level0 col1\" >Score</th>\n",
       "    </tr>\n",
       "  </thead>\n",
       "  <tbody>\n",
       "    <tr>\n",
       "      <th id=\"T_4dec8_level0_row0\" class=\"row_heading level0 row0\" >0</th>\n",
       "      <td id=\"T_4dec8_row0_col0\" class=\"data row0 col0\" >Up</td>\n",
       "      <td id=\"T_4dec8_row0_col1\" class=\"data row0 col1\" >0.28</td>\n",
       "    </tr>\n",
       "    <tr>\n",
       "      <th id=\"T_4dec8_level0_row1\" class=\"row_heading level0 row1\" >1</th>\n",
       "      <td id=\"T_4dec8_row1_col0\" class=\"data row1 col0\" >Monsters, Inc.</td>\n",
       "      <td id=\"T_4dec8_row1_col1\" class=\"data row1 col1\" >0.26</td>\n",
       "    </tr>\n",
       "    <tr>\n",
       "      <th id=\"T_4dec8_level0_row2\" class=\"row_heading level0 row2\" >2</th>\n",
       "      <td id=\"T_4dec8_row2_col0\" class=\"data row2 col0\" >WALL·E</td>\n",
       "      <td id=\"T_4dec8_row2_col1\" class=\"data row2 col1\" >0.25</td>\n",
       "    </tr>\n",
       "    <tr>\n",
       "      <th id=\"T_4dec8_level0_row3\" class=\"row_heading level0 row3\" >3</th>\n",
       "      <td id=\"T_4dec8_row3_col0\" class=\"data row3 col0\" >Toy Story 3</td>\n",
       "      <td id=\"T_4dec8_row3_col1\" class=\"data row3 col1\" >0.25</td>\n",
       "    </tr>\n",
       "    <tr>\n",
       "      <th id=\"T_4dec8_level0_row4\" class=\"row_heading level0 row4\" >4</th>\n",
       "      <td id=\"T_4dec8_row4_col0\" class=\"data row4 col0\" >Monsters University</td>\n",
       "      <td id=\"T_4dec8_row4_col1\" class=\"data row4 col1\" >0.22</td>\n",
       "    </tr>\n",
       "    <tr>\n",
       "      <th id=\"T_4dec8_level0_row5\" class=\"row_heading level0 row5\" >5</th>\n",
       "      <td id=\"T_4dec8_row5_col0\" class=\"data row5 col0\" >The Secret Life of Pets</td>\n",
       "      <td id=\"T_4dec8_row5_col1\" class=\"data row5 col1\" >0.20</td>\n",
       "    </tr>\n",
       "    <tr>\n",
       "      <th id=\"T_4dec8_level0_row6\" class=\"row_heading level0 row6\" >6</th>\n",
       "      <td id=\"T_4dec8_row6_col0\" class=\"data row6 col0\" >Despicable Me 2</td>\n",
       "      <td id=\"T_4dec8_row6_col1\" class=\"data row6 col1\" >0.20</td>\n",
       "    </tr>\n",
       "    <tr>\n",
       "      <th id=\"T_4dec8_level0_row7\" class=\"row_heading level0 row7\" >7</th>\n",
       "      <td id=\"T_4dec8_row7_col0\" class=\"data row7 col0\" >Cars 2</td>\n",
       "      <td id=\"T_4dec8_row7_col1\" class=\"data row7 col1\" >0.20</td>\n",
       "    </tr>\n",
       "    <tr>\n",
       "      <th id=\"T_4dec8_level0_row8\" class=\"row_heading level0 row8\" >8</th>\n",
       "      <td id=\"T_4dec8_row8_col0\" class=\"data row8 col0\" >Cloudy with a Chance of Meatballs</td>\n",
       "      <td id=\"T_4dec8_row8_col1\" class=\"data row8 col1\" >0.20</td>\n",
       "    </tr>\n",
       "    <tr>\n",
       "      <th id=\"T_4dec8_level0_row9\" class=\"row_heading level0 row9\" >9</th>\n",
       "      <td id=\"T_4dec8_row9_col0\" class=\"data row9 col0\" >A Bug's Life</td>\n",
       "      <td id=\"T_4dec8_row9_col1\" class=\"data row9 col1\" >0.19</td>\n",
       "    </tr>\n",
       "  </tbody>\n",
       "</table>\n"
      ],
      "text/plain": [
       "<pandas.io.formats.style.Styler at 0x1ebadb0bfa0>"
      ]
     },
     "execution_count": 21,
     "metadata": {},
     "output_type": "execute_result"
    }
   ],
   "source": [
    "movie_title = 'Inside Out'     # The movie title for which you need similar items\n",
    "data = df       # Preprocessed data\n",
    "n = 10      # Number of recommendations\n",
    "pd.DataFrame(get_recommendation_cv(movie_title, data, n=n)).rename(\n",
    "    columns={'value': 'Movie Title', 'score': 'Score'}).style.set_properties(**{'text-align': 'left'}).set_table_styles(\n",
    "    [{'selector': 'th', 'props': [('text-align', 'center')]}]).format(precision=2)"
   ]
  },
  {
   "cell_type": "markdown",
   "metadata": {},
   "source": [
    "#### *TF-IDF (convert text to features)*"
   ]
  },
  {
   "cell_type": "code",
   "execution_count": 22,
   "metadata": {},
   "outputs": [],
   "source": [
    "# Importing TF-IDF\n",
    "tfidf_vec = TfidfVectorizer(stop_words='english', analyzer='word', ngram_range=(1,3))"
   ]
  },
  {
   "cell_type": "markdown",
   "metadata": {},
   "source": [
    "#### *2. Build a Model Using TF-IDF & Cosine similarity*"
   ]
  },
  {
   "cell_type": "code",
   "execution_count": 23,
   "metadata": {},
   "outputs": [],
   "source": [
    "# Comparing similarity to get the top matches using TF-IDF\n",
    "def get_recommendation_tfidf(movie_title, df, n):\n",
    "    try:\n",
    "        row = df.loc[df['title'] == movie_title.title()]\n",
    "        index = list(row.index)[0]\n",
    "    except:\n",
    "        print('Invalid movie title!')\n",
    "        return None\n",
    "    else:\n",
    "        #Create vector using tf-idf\n",
    "        tfidf_matrix = tfidf_vec.fit_transform(mixed_list)\n",
    "        sim_matrix = cosine_similarity(tfidf_matrix)\n",
    "        products = find_similarity(sim_matrix , index, n)\n",
    "        return products"
   ]
  },
  {
   "cell_type": "code",
   "execution_count": 24,
   "metadata": {},
   "outputs": [
    {
     "data": {
      "text/html": [
       "<style type=\"text/css\">\n",
       "#T_0b002 th {\n",
       "  text-align: center;\n",
       "}\n",
       "#T_0b002_row0_col0, #T_0b002_row0_col1, #T_0b002_row1_col0, #T_0b002_row1_col1, #T_0b002_row2_col0, #T_0b002_row2_col1, #T_0b002_row3_col0, #T_0b002_row3_col1, #T_0b002_row4_col0, #T_0b002_row4_col1, #T_0b002_row5_col0, #T_0b002_row5_col1, #T_0b002_row6_col0, #T_0b002_row6_col1, #T_0b002_row7_col0, #T_0b002_row7_col1, #T_0b002_row8_col0, #T_0b002_row8_col1, #T_0b002_row9_col0, #T_0b002_row9_col1 {\n",
       "  text-align: left;\n",
       "}\n",
       "</style>\n",
       "<table id=\"T_0b002\">\n",
       "  <thead>\n",
       "    <tr>\n",
       "      <th class=\"blank level0\" >&nbsp;</th>\n",
       "      <th id=\"T_0b002_level0_col0\" class=\"col_heading level0 col0\" >Movie Title</th>\n",
       "      <th id=\"T_0b002_level0_col1\" class=\"col_heading level0 col1\" >Score</th>\n",
       "    </tr>\n",
       "  </thead>\n",
       "  <tbody>\n",
       "    <tr>\n",
       "      <th id=\"T_0b002_level0_row0\" class=\"row_heading level0 row0\" >0</th>\n",
       "      <td id=\"T_0b002_row0_col0\" class=\"data row0 col0\" >Toy Story 3</td>\n",
       "      <td id=\"T_0b002_row0_col1\" class=\"data row0 col1\" >0.09</td>\n",
       "    </tr>\n",
       "    <tr>\n",
       "      <th id=\"T_0b002_level0_row1\" class=\"row_heading level0 row1\" >1</th>\n",
       "      <td id=\"T_0b002_row1_col0\" class=\"data row1 col0\" >WALL·E</td>\n",
       "      <td id=\"T_0b002_row1_col1\" class=\"data row1 col1\" >0.08</td>\n",
       "    </tr>\n",
       "    <tr>\n",
       "      <th id=\"T_0b002_level0_row2\" class=\"row_heading level0 row2\" >2</th>\n",
       "      <td id=\"T_0b002_row2_col0\" class=\"data row2 col0\" >Monsters, Inc.</td>\n",
       "      <td id=\"T_0b002_row2_col1\" class=\"data row2 col1\" >0.08</td>\n",
       "    </tr>\n",
       "    <tr>\n",
       "      <th id=\"T_0b002_level0_row3\" class=\"row_heading level0 row3\" >3</th>\n",
       "      <td id=\"T_0b002_row3_col0\" class=\"data row3 col0\" >Up</td>\n",
       "      <td id=\"T_0b002_row3_col1\" class=\"data row3 col1\" >0.06</td>\n",
       "    </tr>\n",
       "    <tr>\n",
       "      <th id=\"T_0b002_level0_row4\" class=\"row_heading level0 row4\" >4</th>\n",
       "      <td id=\"T_0b002_row4_col0\" class=\"data row4 col0\" >Monsters University</td>\n",
       "      <td id=\"T_0b002_row4_col1\" class=\"data row4 col1\" >0.05</td>\n",
       "    </tr>\n",
       "    <tr>\n",
       "      <th id=\"T_0b002_level0_row5\" class=\"row_heading level0 row5\" >5</th>\n",
       "      <td id=\"T_0b002_row5_col0\" class=\"data row5 col0\" >Despicable Me 2</td>\n",
       "      <td id=\"T_0b002_row5_col1\" class=\"data row5 col1\" >0.05</td>\n",
       "    </tr>\n",
       "    <tr>\n",
       "      <th id=\"T_0b002_level0_row6\" class=\"row_heading level0 row6\" >6</th>\n",
       "      <td id=\"T_0b002_row6_col0\" class=\"data row6 col0\" >The Incredibles</td>\n",
       "      <td id=\"T_0b002_row6_col1\" class=\"data row6 col1\" >0.05</td>\n",
       "    </tr>\n",
       "    <tr>\n",
       "      <th id=\"T_0b002_level0_row7\" class=\"row_heading level0 row7\" >7</th>\n",
       "      <td id=\"T_0b002_row7_col0\" class=\"data row7 col0\" >Cloudy with a Chance of Meatballs</td>\n",
       "      <td id=\"T_0b002_row7_col1\" class=\"data row7 col1\" >0.04</td>\n",
       "    </tr>\n",
       "    <tr>\n",
       "      <th id=\"T_0b002_level0_row8\" class=\"row_heading level0 row8\" >8</th>\n",
       "      <td id=\"T_0b002_row8_col0\" class=\"data row8 col0\" >Treasure Planet</td>\n",
       "      <td id=\"T_0b002_row8_col1\" class=\"data row8 col1\" >0.04</td>\n",
       "    </tr>\n",
       "    <tr>\n",
       "      <th id=\"T_0b002_level0_row9\" class=\"row_heading level0 row9\" >9</th>\n",
       "      <td id=\"T_0b002_row9_col0\" class=\"data row9 col0\" >A Bug's Life</td>\n",
       "      <td id=\"T_0b002_row9_col1\" class=\"data row9 col1\" >0.04</td>\n",
       "    </tr>\n",
       "  </tbody>\n",
       "</table>\n"
      ],
      "text/plain": [
       "<pandas.io.formats.style.Styler at 0x1ebfff22250>"
      ]
     },
     "execution_count": 24,
     "metadata": {},
     "output_type": "execute_result"
    }
   ],
   "source": [
    "movie_title = 'Inside Out'     # The movie title for which you need similar items\n",
    "data = df       # Preprocessed data\n",
    "n = 10      # Number of recommendations\n",
    "pd.DataFrame(get_recommendation_tfidf(movie_title, data, n=n)).rename(\n",
    "    columns={'value': 'Movie Title', 'score': 'Score'}).style.set_properties(**{'text-align': 'left'}).set_table_styles(\n",
    "    [{'selector': 'th', 'props': [('text-align', 'center')]}]).format(precision=2)"
   ]
  }
 ],
 "metadata": {
  "kernelspec": {
   "display_name": "venv",
   "language": "python",
   "name": "python3"
  },
  "language_info": {
   "codemirror_mode": {
    "name": "ipython",
    "version": 3
   },
   "file_extension": ".py",
   "mimetype": "text/x-python",
   "name": "python",
   "nbconvert_exporter": "python",
   "pygments_lexer": "ipython3",
   "version": "3.9.13"
  }
 },
 "nbformat": 4,
 "nbformat_minor": 2
}
